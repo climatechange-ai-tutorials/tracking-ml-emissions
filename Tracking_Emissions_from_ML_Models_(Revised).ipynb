{
  "cells": [
    {
      "cell_type": "markdown",
      "metadata": {
        "id": "EFpgp_rIA_TY"
      },
      "source": [
        "# How to Track Emissions when Training Machine Learning Models\n",
        "**Content Creator**: Mel Hanna (mdriscollhanna@gmail.com)\n",
        "\n",
        "Welcome to CCAI's tutorial on tracking and mitigating the emissions from ML model training!\n",
        "\n",
        "In order to make edits to this notebook, you should press **File > \"Save a Copy in Drive\"**. This will ensure that any edits will be on your local copy, and they will not affect the notebook shared with everyone else."
      ]
    },
    {
      "cell_type": "markdown",
      "metadata": {
        "id": "gchK901cq3hN"
      },
      "source": [
        "# Table of Contents\n",
        "\n",
        "\n",
        "*   [Overview](#overview)\n",
        "*   [Target Audience](#target-audience)\n",
        "*   [Background & Prerequisites](#background-and-prereqs)\n",
        "*   [Software Requirements](#software-requirements)\n",
        "*   [Climate Impact](#climate-impact)\n",
        "*   [Methodology](#methodology)\n",
        "*   [Results & Discussion](#codecarbon-experiments)\n",
        "*   [References](#references)"
      ]
    },
    {
      "cell_type": "markdown",
      "metadata": {
        "id": "Nuv5XES8Ejc_"
      },
      "source": [
        "<a name=\"overview\"></a>\n",
        "# Overview\n",
        "This tutorial explains the methodology behind calculating computing-related GHG emissions from training machine learning models and demonstrates some strategies to reduce a model's carbon footprint.\n",
        "\n",
        "Specifically, you will learn how to:\n",
        "- measure a ML model's emissions with CodeCarbon\n",
        "- potentially reduce a ML model's carbon footprint during training\n",
        "\n",
        "\n"
      ]
    },
    {
      "cell_type": "markdown",
      "metadata": {
        "id": "xyb28HbsrcLJ"
      },
      "source": [
        "<a name=\"target-audience\"></a>\n",
        "## **Target Audience**\n",
        "This tutorial is intended for experienced and aspiring data scientists looking for concrete examples of how to track carbon emissions while executing code and how to train machine learning models in a more efficient way. The reader should understand the basic mechanics of training an ML model, such as splitting data between train and test sets and tuning hyperparameters."
      ]
    },
    {
      "cell_type": "markdown",
      "metadata": {
        "id": "PMhFV8gzrqO-"
      },
      "source": [
        "<a name=\"software-requirements\"></a>\n",
        "## **Software Requirements**\n",
        "\n",
        "This notebook requires Python >= 3.7. The following libraries are required:\n",
        "*   tqdm\n",
        "*   pandas\n",
        "*   numpy\n",
        "*   matplotlib\n",
        "*   pytorch"
      ]
    },
    {
      "cell_type": "markdown",
      "metadata": {
        "id": "H08M_-5iEbc1"
      },
      "source": [
        "### **Enabling GPU in Google Colab**\n",
        "Before we start, you will need access to a GPU.  Fortunately, Google Colab provides free access to computing resources including GPUs. The GPUs currently available in Colab include Nvidia K80s, T4s, P4s and P100s. Unfortunately, there is no way to choose what type of GPU you can connect to in Colab. [See here for information](https://research.google.com/colaboratory/faq.html#gpu-availability).\n",
        "\n",
        "To enable GPU in Google Colab:\n",
        "1. Navigate to Edit→Notebook Settings or Runtime→Change Runtime Type.\n",
        "2. Select GPU from the Hardware Accelerator drop-down."
      ]
    },
    {
      "cell_type": "markdown",
      "metadata": {
        "id": "-DPvBsAj78ec"
      },
      "source": [
        "### **Other dependencies**\n",
        "\n",
        "We'll also take a moment to install and import the necessary dependencies for executing the rest of the notebook."
      ]
    },
    {
      "cell_type": "code",
      "execution_count": null,
      "metadata": {
        "colab": {
          "base_uri": "https://localhost:8080/"
        },
        "id": "vUiCHIpvYSW2",
        "outputId": "eb65fc5e-7627-4833-9122-48d7276ea044"
      },
      "outputs": [
        {
          "output_type": "stream",
          "name": "stdout",
          "text": [
            "Looking in indexes: https://pypi.org/simple, https://us-python.pkg.dev/colab-wheels/public/simple/\n",
            "Collecting codecarbon\n",
            "  Downloading codecarbon-2.1.4-py3-none-any.whl (174 kB)\n",
            "     ━━━━━━━━━━━━━━━━━━━━━━━━━━━━━━━━━━━━━━━ 174.9/174.9 kB 4.7 MB/s eta 0:00:00\n",
            "Requirement already satisfied: py-cpuinfo in /usr/local/lib/python3.9/dist-packages (from codecarbon) (9.0.0)\n",
            "Requirement already satisfied: click in /usr/local/lib/python3.9/dist-packages (from codecarbon) (8.1.3)\n",
            "Collecting arrow\n",
            "  Downloading arrow-1.2.3-py3-none-any.whl (66 kB)\n",
            "     ━━━━━━━━━━━━━━━━━━━━━━━━━━━━━━━━━━━━━━━━ 66.4/66.4 kB 8.0 MB/s eta 0:00:00\n",
            "Requirement already satisfied: pandas in /usr/local/lib/python3.9/dist-packages (from codecarbon) (1.5.3)\n",
            "Collecting pynvml\n",
            "  Downloading pynvml-11.5.0-py3-none-any.whl (53 kB)\n",
            "     ━━━━━━━━━━━━━━━━━━━━━━━━━━━━━━━━━━━━━━━━ 53.1/53.1 kB 7.1 MB/s eta 0:00:00\n",
            "Requirement already satisfied: requests in /usr/local/lib/python3.9/dist-packages (from codecarbon) (2.27.1)\n",
            "Collecting fuzzywuzzy\n",
            "  Downloading fuzzywuzzy-0.18.0-py2.py3-none-any.whl (18 kB)\n",
            "Requirement already satisfied: psutil in /usr/local/lib/python3.9/dist-packages (from codecarbon) (5.9.4)\n",
            "Requirement already satisfied: python-dateutil>=2.7.0 in /usr/local/lib/python3.9/dist-packages (from arrow->codecarbon) (2.8.2)\n",
            "Requirement already satisfied: pytz>=2020.1 in /usr/local/lib/python3.9/dist-packages (from pandas->codecarbon) (2022.7.1)\n",
            "Requirement already satisfied: numpy>=1.20.3 in /usr/local/lib/python3.9/dist-packages (from pandas->codecarbon) (1.22.4)\n",
            "Requirement already satisfied: idna<4,>=2.5 in /usr/local/lib/python3.9/dist-packages (from requests->codecarbon) (3.4)\n",
            "Requirement already satisfied: charset-normalizer~=2.0.0 in /usr/local/lib/python3.9/dist-packages (from requests->codecarbon) (2.0.12)\n",
            "Requirement already satisfied: urllib3<1.27,>=1.21.1 in /usr/local/lib/python3.9/dist-packages (from requests->codecarbon) (1.26.15)\n",
            "Requirement already satisfied: certifi>=2017.4.17 in /usr/local/lib/python3.9/dist-packages (from requests->codecarbon) (2022.12.7)\n",
            "Requirement already satisfied: six>=1.5 in /usr/local/lib/python3.9/dist-packages (from python-dateutil>=2.7.0->arrow->codecarbon) (1.16.0)\n",
            "Installing collected packages: fuzzywuzzy, pynvml, arrow, codecarbon\n",
            "Successfully installed arrow-1.2.3 codecarbon-2.1.4 fuzzywuzzy-0.18.0 pynvml-11.5.0\n",
            "Looking in indexes: https://pypi.org/simple, https://us-python.pkg.dev/colab-wheels/public/simple/\n",
            "Collecting dash\n",
            "  Downloading dash-2.9.3-py3-none-any.whl (10.2 MB)\n",
            "     ━━━━━━━━━━━━━━━━━━━━━━━━━━━━━━━━━━━━━━━━ 10.2/10.2 MB 67.5 MB/s eta 0:00:00\n",
            "Requirement already satisfied: Flask>=1.0.4 in /usr/local/lib/python3.9/dist-packages (from dash) (2.2.3)\n",
            "Collecting dash-core-components==2.0.0\n",
            "  Downloading dash_core_components-2.0.0-py3-none-any.whl (3.8 kB)\n",
            "Collecting dash-table==5.0.0\n",
            "  Downloading dash_table-5.0.0-py3-none-any.whl (3.9 kB)\n",
            "Requirement already satisfied: plotly>=5.0.0 in /usr/local/lib/python3.9/dist-packages (from dash) (5.13.1)\n",
            "Collecting dash-html-components==2.0.0\n",
            "  Downloading dash_html_components-2.0.0-py3-none-any.whl (4.1 kB)\n",
            "Requirement already satisfied: itsdangerous>=2.0 in /usr/local/lib/python3.9/dist-packages (from Flask>=1.0.4->dash) (2.1.2)\n",
            "Requirement already satisfied: Jinja2>=3.0 in /usr/local/lib/python3.9/dist-packages (from Flask>=1.0.4->dash) (3.1.2)\n",
            "Requirement already satisfied: Werkzeug>=2.2.2 in /usr/local/lib/python3.9/dist-packages (from Flask>=1.0.4->dash) (2.2.3)\n",
            "Requirement already satisfied: click>=8.0 in /usr/local/lib/python3.9/dist-packages (from Flask>=1.0.4->dash) (8.1.3)\n",
            "Requirement already satisfied: importlib-metadata>=3.6.0 in /usr/local/lib/python3.9/dist-packages (from Flask>=1.0.4->dash) (6.3.0)\n",
            "Requirement already satisfied: tenacity>=6.2.0 in /usr/local/lib/python3.9/dist-packages (from plotly>=5.0.0->dash) (8.2.2)\n",
            "Requirement already satisfied: zipp>=0.5 in /usr/local/lib/python3.9/dist-packages (from importlib-metadata>=3.6.0->Flask>=1.0.4->dash) (3.15.0)\n",
            "Requirement already satisfied: MarkupSafe>=2.0 in /usr/local/lib/python3.9/dist-packages (from Jinja2>=3.0->Flask>=1.0.4->dash) (2.1.2)\n",
            "Installing collected packages: dash-table, dash-html-components, dash-core-components, dash\n",
            "Successfully installed dash-2.9.3 dash-core-components-2.0.0 dash-html-components-2.0.0 dash-table-5.0.0\n",
            "Looking in indexes: https://pypi.org/simple, https://us-python.pkg.dev/colab-wheels/public/simple/\n",
            "Collecting dash-bootstrap-components==0.13.1\n",
            "  Downloading dash_bootstrap_components-0.13.1-py3-none-any.whl (197 kB)\n",
            "     ━━━━━━━━━━━━━━━━━━━━━━━━━━━━━━━━━━━━━━━ 197.3/197.3 kB 6.0 MB/s eta 0:00:00\n",
            "Requirement already satisfied: dash>=1.9.0 in /usr/local/lib/python3.9/dist-packages (from dash-bootstrap-components==0.13.1) (2.9.3)\n",
            "Requirement already satisfied: Flask>=1.0.4 in /usr/local/lib/python3.9/dist-packages (from dash>=1.9.0->dash-bootstrap-components==0.13.1) (2.2.3)\n",
            "Requirement already satisfied: dash-html-components==2.0.0 in /usr/local/lib/python3.9/dist-packages (from dash>=1.9.0->dash-bootstrap-components==0.13.1) (2.0.0)\n",
            "Requirement already satisfied: plotly>=5.0.0 in /usr/local/lib/python3.9/dist-packages (from dash>=1.9.0->dash-bootstrap-components==0.13.1) (5.13.1)\n",
            "Requirement already satisfied: dash-table==5.0.0 in /usr/local/lib/python3.9/dist-packages (from dash>=1.9.0->dash-bootstrap-components==0.13.1) (5.0.0)\n",
            "Requirement already satisfied: dash-core-components==2.0.0 in /usr/local/lib/python3.9/dist-packages (from dash>=1.9.0->dash-bootstrap-components==0.13.1) (2.0.0)\n",
            "Requirement already satisfied: importlib-metadata>=3.6.0 in /usr/local/lib/python3.9/dist-packages (from Flask>=1.0.4->dash>=1.9.0->dash-bootstrap-components==0.13.1) (6.3.0)\n",
            "Requirement already satisfied: click>=8.0 in /usr/local/lib/python3.9/dist-packages (from Flask>=1.0.4->dash>=1.9.0->dash-bootstrap-components==0.13.1) (8.1.3)\n",
            "Requirement already satisfied: Werkzeug>=2.2.2 in /usr/local/lib/python3.9/dist-packages (from Flask>=1.0.4->dash>=1.9.0->dash-bootstrap-components==0.13.1) (2.2.3)\n",
            "Requirement already satisfied: itsdangerous>=2.0 in /usr/local/lib/python3.9/dist-packages (from Flask>=1.0.4->dash>=1.9.0->dash-bootstrap-components==0.13.1) (2.1.2)\n",
            "Requirement already satisfied: Jinja2>=3.0 in /usr/local/lib/python3.9/dist-packages (from Flask>=1.0.4->dash>=1.9.0->dash-bootstrap-components==0.13.1) (3.1.2)\n",
            "Requirement already satisfied: tenacity>=6.2.0 in /usr/local/lib/python3.9/dist-packages (from plotly>=5.0.0->dash>=1.9.0->dash-bootstrap-components==0.13.1) (8.2.2)\n",
            "Requirement already satisfied: zipp>=0.5 in /usr/local/lib/python3.9/dist-packages (from importlib-metadata>=3.6.0->Flask>=1.0.4->dash>=1.9.0->dash-bootstrap-components==0.13.1) (3.15.0)\n",
            "Requirement already satisfied: MarkupSafe>=2.0 in /usr/local/lib/python3.9/dist-packages (from Jinja2>=3.0->Flask>=1.0.4->dash>=1.9.0->dash-bootstrap-components==0.13.1) (2.1.2)\n",
            "Installing collected packages: dash-bootstrap-components\n",
            "Successfully installed dash-bootstrap-components-0.13.1\n",
            "Looking in indexes: https://pypi.org/simple, https://us-python.pkg.dev/colab-wheels/public/simple/\n",
            "Collecting netCDF4\n",
            "  Downloading netCDF4-1.6.3-cp39-cp39-manylinux_2_17_x86_64.manylinux2014_x86_64.whl (5.2 MB)\n",
            "     ━━━━━━━━━━━━━━━━━━━━━━━━━━━━━━━━━━━━━━━━ 5.2/5.2 MB 50.5 MB/s eta 0:00:00\n",
            "Collecting cftime\n",
            "  Downloading cftime-1.6.2-cp39-cp39-manylinux_2_17_x86_64.manylinux2014_x86_64.whl (1.3 MB)\n",
            "     ━━━━━━━━━━━━━━━━━━━━━━━━━━━━━━━━━━━━━━━━ 1.3/1.3 MB 76.8 MB/s eta 0:00:00\n",
            "Requirement already satisfied: numpy in /usr/local/lib/python3.9/dist-packages (from netCDF4) (1.22.4)\n",
            "Installing collected packages: cftime, netCDF4\n",
            "Successfully installed cftime-1.6.2 netCDF4-1.6.3\n",
            "Looking in indexes: https://pypi.org/simple, https://us-python.pkg.dev/colab-wheels/public/simple/\n",
            "Collecting fire\n",
            "  Downloading fire-0.5.0.tar.gz (88 kB)\n",
            "     ━━━━━━━━━━━━━━━━━━━━━━━━━━━━━━━━━━━━━━━━ 88.3/88.3 kB 3.9 MB/s eta 0:00:00\n",
            "  Preparing metadata (setup.py): started\n",
            "  Preparing metadata (setup.py): finished with status 'done'\n",
            "Requirement already satisfied: six in /usr/local/lib/python3.9/dist-packages (from fire) (1.16.0)\n",
            "Requirement already satisfied: termcolor in /usr/local/lib/python3.9/dist-packages (from fire) (2.2.0)\n",
            "Building wheels for collected packages: fire\n",
            "  Building wheel for fire (setup.py): started\n",
            "  Building wheel for fire (setup.py): finished with status 'done'\n",
            "  Created wheel for fire: filename=fire-0.5.0-py2.py3-none-any.whl size=116952 sha256=573748a7065a92380085745e83cf0cd53aa84fca5171e4c2016c88a239192945\n",
            "  Stored in directory: /root/.cache/pip/wheels/f7/f1/89/b9ea2bf8f80ec027a88fef1d354b3816b4d3d29530988972f6\n",
            "Successfully built fire\n",
            "Installing collected packages: fire\n",
            "Successfully installed fire-0.5.0\n",
            "Looking in indexes: https://pypi.org/simple, https://us-python.pkg.dev/colab-wheels/public/simple/\n",
            "Collecting optuna\n",
            "  Downloading optuna-3.1.1-py3-none-any.whl (365 kB)\n",
            "     ━━━━━━━━━━━━━━━━━━━━━━━━━━━━━━━━━━━━━━━ 365.7/365.7 kB 8.8 MB/s eta 0:00:00\n",
            "Collecting alembic>=1.5.0\n",
            "  Downloading alembic-1.10.3-py3-none-any.whl (212 kB)\n",
            "     ━━━━━━━━━━━━━━━━━━━━━━━━━━━━━━━━━━━━━━ 212.3/212.3 kB 25.8 MB/s eta 0:00:00\n",
            "Requirement already satisfied: numpy in /usr/local/lib/python3.9/dist-packages (from optuna) (1.22.4)\n",
            "Requirement already satisfied: tqdm in /usr/local/lib/python3.9/dist-packages (from optuna) (4.65.0)\n",
            "Collecting colorlog\n",
            "  Downloading colorlog-6.7.0-py2.py3-none-any.whl (11 kB)\n",
            "Requirement already satisfied: packaging>=20.0 in /usr/local/lib/python3.9/dist-packages (from optuna) (23.0)\n",
            "Requirement already satisfied: sqlalchemy>=1.3.0 in /usr/local/lib/python3.9/dist-packages (from optuna) (2.0.9)\n",
            "Collecting cmaes>=0.9.1\n",
            "  Downloading cmaes-0.9.1-py3-none-any.whl (21 kB)\n",
            "Requirement already satisfied: PyYAML in /usr/local/lib/python3.9/dist-packages (from optuna) (6.0)\n",
            "Collecting Mako\n",
            "  Downloading Mako-1.2.4-py3-none-any.whl (78 kB)\n",
            "     ━━━━━━━━━━━━━━━━━━━━━━━━━━━━━━━━━━━━━━━━ 78.7/78.7 kB 10.3 MB/s eta 0:00:00\n",
            "Requirement already satisfied: typing-extensions>=4 in /usr/local/lib/python3.9/dist-packages (from alembic>=1.5.0->optuna) (4.5.0)\n",
            "Requirement already satisfied: greenlet!=0.4.17 in /usr/local/lib/python3.9/dist-packages (from sqlalchemy>=1.3.0->optuna) (2.0.2)\n",
            "Requirement already satisfied: MarkupSafe>=0.9.2 in /usr/local/lib/python3.9/dist-packages (from Mako->alembic>=1.5.0->optuna) (2.1.2)\n",
            "Installing collected packages: Mako, colorlog, cmaes, alembic, optuna\n",
            "Successfully installed Mako-1.2.4 alembic-1.10.3 cmaes-0.9.1 colorlog-6.7.0 optuna-3.1.1\n"
          ]
        }
      ],
      "source": [
        "%%bash\n",
        "pip install codecarbon\n",
        "pip install dash\n",
        "pip install dash-bootstrap-components==0.13.1\n",
        "pip install netCDF4\n",
        "pip install fire\n",
        "pip install optuna\n",
        "\n",
        "mkdir code_carbon"
      ]
    },
    {
      "cell_type": "code",
      "execution_count": null,
      "metadata": {
        "id": "Qw688STi6Z6k"
      },
      "outputs": [],
      "source": [
        "%matplotlib inline\n",
        "import random\n",
        "\n",
        "import numpy as np\n",
        "import optuna\n",
        "import pandas as pd\n",
        "import scipy.stats\n",
        "import sklearn\n",
        "import sklearn.ensemble\n",
        "import torch\n",
        "import torch.nn as nn\n",
        "import torch.nn.functional as F\n",
        "import torch.optim as optim\n",
        "import torchvision\n",
        "import xarray as xr\n",
        "from codecarbon import EmissionsTracker\n",
        "from google.colab.output import eval_js\n",
        "from matplotlib import pyplot as plt\n",
        "from scipy.stats import pearsonr\n",
        "from sklearn.metrics import mean_squared_error\n",
        "from sklearn.model_selection import train_test_split\n",
        "from torch.utils.data import DataLoader, Dataset\n",
        "from tqdm import tqdm\n",
        "\n",
        "# Set seeds for reproducibility\n",
        "# Per PyTorch, results may not be reproducible between CPU and GPU executions,\n",
        "# even when using identical seeds\n",
        "random.seed(0)\n",
        "torch.manual_seed(0)\n",
        "np.random.seed(0)"
      ]
    },
    {
      "cell_type": "markdown",
      "metadata": {
        "id": "VODtRQ9-_JA8"
      },
      "source": [
        "<a name=\"climate-impact\"></a>\n",
        "# **1. Climate Impact of Machine Learning**\n",
        "\n",
        "Machine learning models can have a wide-ranging and potentially subtle impact on our climate. We categorize potential emissions from ML models into three broad levels:\n",
        "* System-level\n",
        "* Application-related\n",
        "* Computing-related\n",
        "\n",
        "This tutorial will focus only on the computing-related impact of ML models but we'll discuss each of these categories to capture the complete picture of machine learning’s role in the climate crisis."
      ]
    },
    {
      "cell_type": "markdown",
      "metadata": {
        "id": "Xn5FtR3p_lGx"
      },
      "source": [
        "<table style=\"text-align: center;\">\n",
        "<tr>\n",
        "  <td>\n",
        "   <img src=\"https://media.springernature.com/full/springer-static/image/art%3A10.1038%2Fs41558-022-01377-7/MediaObjects/41558_2022_1377_Fig1_HTML.png\"/>\n",
        "  </td>\n",
        "</tr>\n",
        "<tr>\n",
        "  <th>Fig. 1 from [1]</a></th>\n",
        "</tr>\n",
        "</table>"
      ]
    },
    {
      "cell_type": "markdown",
      "metadata": {
        "id": "BRVKsxch_dku"
      },
      "source": [
        "## **1.1 System-level impact**\n",
        "\n",
        "System-level impacts consider the societal implications of ML. These types of impacts may have the greatest potential for GHG emissions. For example, implementing a recommender system that increases the demand for physical goods also increases the emissions from the manufacture and eventual disposal of these products. Shifting to autonomous cars could reduce demand for public transit and simultaneously increase emissions&mdash;through the material extraction and car manufacturing process and from operating the vehicles if the cars aren’t electrified."
      ]
    },
    {
      "cell_type": "markdown",
      "metadata": {
        "id": "wFo4QoxsCPGp"
      },
      "source": [
        "## **1.2 Application-related impact**\n",
        "\n",
        "Application-related impacts consider _how_ a model will be used in the wider context. Does the model enable carbon emitters or hinder the expansion of renewable energy? For example, machine learning has been used to assist in identifying new oil fields for exploration [2]. AI has also helped to identify and track livestock in factory farms, an industry that accounts for about 9% of global GHG emissions [3].\n",
        "\n",
        "Depending on the scenario, these application-related impacts can far exceed the emissions from hardware and computing. Of course, ML can also be used to _reduce_ GHG emissions. For some hands-on examples of these types of situations, check out [CCAI’s other tutorials](https://www.climatechange.ai/tutorials?)."
      ]
    },
    {
      "cell_type": "markdown",
      "metadata": {
        "id": "tI4aDSHmCPJQ"
      },
      "source": [
        "## 1.3 Computing-related impact\n",
        "\n",
        "The computing-related climate impact of ML models can be divided into _embodied_ and _operational_ emissions. Embodied emissions represent the climate impact of the hardware involved in machine learning, such as material extraction and manufacture. Operational emissions are those associated with creating and productionalizing an ML model, including data storage and processing, model training, and model inference.\n"
      ]
    },
    {
      "cell_type": "markdown",
      "source": [
        "<table style=\"text-align: center;\" width=\"50%\">\n",
        "<tr>\n",
        "  <td>\n",
        "   <img src=\"data:image/png;base64,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\" width=\"100%\">\n",
        "  </td>\n",
        "</tr>\n",
        "<tr>\n",
        "  <th>The ML Lifecycle</a></th>\n",
        "</tr>\n",
        "</table>"
      ],
      "metadata": {
        "id": "ZCVVqoCCqVto"
      }
    },
    {
      "cell_type": "markdown",
      "source": [
        "> **Quick note**: The ML terms _\"productionalizing\"_, _\"operationalizing\"_, or _\"deploying\"_ a model all refer to the process of providing the model for other users to make predictions. The term _\"model inference\"_ is the stage of the machine learning lifecycle when we make predictions, which is also referred to as _\"scoring\"_ new data.\n",
        "\n",
        "While it’s difficult to estimate the overall contribution of ML to the climate crisis, the field of Information and Communications Technology (ICT) accounts for about 1.4% of global GHG emissions. Roughly one-third of these emissions are related to the manufacture and handling of physical materials [1].  "
      ],
      "metadata": {
        "id": "OMxlVxiKuTSL"
      }
    },
    {
      "cell_type": "markdown",
      "metadata": {
        "id": "-oLZpeDxCPNZ"
      },
      "source": [
        "### **1.3.1 Case study: ChatGPT** 🤖\n",
        "\n",
        "While ICT's contribution to global emissions may seem small, the amount of compute needed to achieve state-of-the-art ML performance has historically doubled every 3.4 months [4]. These energy increases could be offset by hardware and algorithmic improvements [5]. But given the latest trend toward developing ever larger and more complex models, such as ChatGPT, we should remain vigilant in tracking and reducing the emissions associated with machine learning models.\n",
        "\n",
        "With that in mind, let's take a closer look at the emissions involved with both training and using ChatGPT!\n",
        "\n",
        "Training ChatGPT’s underlying language model, GPT-3, consumed an estimated 1,287 MWh [5]. To put this number in perspective, the average annual electricity consumption for an American in 2021 was 10,632 kWh [10]. That means the energy used to train GPT-3 was the equivalent of adding 121 additional Americans to the grid for one year.\n",
        "\n",
        "Of course, we only realize value from GPT-3 when it's used by the world. ChatGPT saw more than 590 million unique visits in January 2023 alone [9]. When we calculate a model’s carbon impact, we must consider all aspects of the ML lifecycle.\n",
        "\n",
        "Based on some [back-of-the-envelope calculations](https://towardsdatascience.com/chatgpts-electricity-consumption-7873483feac4) by Kasper Groes Albin Ludvigsen, ChatGPT’s electricity consumption in January 2023 is estimated to have been between 1,168 MWh and 23,364 MWh&mdash;roughly 1 and 18 times the amount of energy required to initially train the model. And that’s the energy estimate for just one month!\n",
        "\n",
        "As you integrate machine learning into your own research, you will likely train models that are far smaller than GPT-3. But that doesn’t mean that your work won’t have a climate impact. Training a useful model requires a lot of experimentation, and the energy consumed by all those iterations can add up.\n",
        "\n",
        "To reduce emissions from machine learning, we must first track them! Even if you're unable to apply any of the suggested strategies from this tutorial to minimize your impact, simply logging and reporting the associated emissions from your ML project is an important step.\n",
        "\n",
        "Let's learn how we can calculate these emissions in the next section."
      ]
    },
    {
      "cell_type": "markdown",
      "metadata": {
        "id": "Fxopvu26CPPv"
      },
      "source": [
        "<a name=\"methodology\"></a>\n",
        "# **2. Methodology: Estimating Emissions from ML**\n",
        "\n",
        "A model’s carbon footprint from computing-related impacts can be estimated as the product of electricity consumed and the carbon intensity of that electricity. To reduce the climate impact of a model, we can either reduce the amount of electricity required or shift our compute to an energy grid with a lower carbon intensity."
      ]
    },
    {
      "cell_type": "markdown",
      "metadata": {
        "id": "pEjnWmfgCPW9"
      },
      "source": [
        "## **2.1 Introducing CodeCarbon**\n",
        "\n",
        "To measure the computing-related carbon footprint of ML training, we’ll use a Python package called [CodeCarbon](https://github.com/mlco2/codecarbon). CodeCarbon was first developed in 2020 by a team from [MILA](https://mila.quebec/en/), [BCG GAMMA](https://www.bcg.com/beyond-consulting/bcg-gamma/overview), [Haverford College](https://www.haverford.edu/), and [Comet](https://www.comet.com/site/).\n",
        "\n",
        "CodeCarbon uses the following formula to calculate the carbon footprint of executing your code:\n",
        "\n",
        "<center><p><p> <img src=\"https://github.com/mlco2/codecarbon/raw/master/docs/edit/images/calculation.png\" alt=\"alt\" width=\"75%\"/></center>"
      ]
    },
    {
      "cell_type": "markdown",
      "metadata": {
        "id": "fGSSETqoHVN5"
      },
      "source": [
        "There are several other packages that provide similar functionality, such as [carbontracker](https://github.com/lfwa/carbontracker), [experiment-impact-tracker](https://github.com/Breakend/experiment-impact-tracker), and [eco2ai](https://github.com/sb-ai-lab/Eco2AI). However, CodeCarbon remains the most continuously updated and supported codebase among these emissions trackers.\n",
        "\n",
        "If you're interested in learning more about the differences among these open-source trackers, please see Table 1 in [6]."
      ]
    },
    {
      "cell_type": "markdown",
      "metadata": {
        "id": "P4T-6uQhIfVJ"
      },
      "source": [
        "## **2.2 Initializing the CodeCarbon tracker**\n",
        "\n",
        "Let's start using CodeCarbon!\n",
        "\n",
        "Note that CodeCarbon is not limited to measuring the impact of machine learning code. You can instantiate the tracker at any time to measure emissions from executing any type of code.\n",
        "\n",
        "If you're more familiar with Python, you can also add the CodeCarbon tracker to your code as a context manager or as a decorator. Check out the [CodeCarbon documentation](https://mlco2.github.io/codecarbon/usage.html#) for more information on these techniques."
      ]
    },
    {
      "cell_type": "code",
      "execution_count": null,
      "metadata": {
        "id": "tRecJkdoYlrR",
        "colab": {
          "base_uri": "https://localhost:8080/"
        },
        "outputId": "eba584d3-a7cc-4f30-ab45-4dc64af29438"
      },
      "outputs": [
        {
          "output_type": "stream",
          "name": "stderr",
          "text": [
            "[codecarbon INFO @ 13:36:54] [setup] RAM Tracking...\n",
            "[codecarbon INFO @ 13:36:54] [setup] GPU Tracking...\n",
            "[codecarbon INFO @ 13:36:54] Tracking Nvidia GPU via pynvml\n",
            "[codecarbon INFO @ 13:36:54] [setup] CPU Tracking...\n",
            "[codecarbon WARNING @ 13:36:54] No CPU tracking mode found. Falling back on CPU constant mode.\n",
            "[codecarbon WARNING @ 13:36:55] We saw that you have a Intel(R) Xeon(R) CPU @ 2.30GHz but we don't know it. Please contact us.\n",
            "[codecarbon INFO @ 13:36:55] CPU Model on constant consumption mode: Intel(R) Xeon(R) CPU @ 2.30GHz\n",
            "[codecarbon INFO @ 13:36:55] >>> Tracker's metadata:\n",
            "[codecarbon INFO @ 13:36:55]   Platform system: Linux-5.10.147+-x86_64-with-glibc2.31\n",
            "[codecarbon INFO @ 13:36:55]   Python version: 3.9.16\n",
            "[codecarbon INFO @ 13:36:55]   Available RAM : 12.681 GB\n",
            "[codecarbon INFO @ 13:36:55]   CPU count: 2\n",
            "[codecarbon INFO @ 13:36:55]   CPU model: Intel(R) Xeon(R) CPU @ 2.30GHz\n",
            "[codecarbon INFO @ 13:36:55]   GPU count: 1\n",
            "[codecarbon INFO @ 13:36:55]   GPU model: 1 x Tesla T4\n"
          ]
        }
      ],
      "source": [
        "# Instantiate the tracker object\n",
        "tracker = EmissionsTracker(\n",
        "    output_dir=\"./code_carbon/\",  # define the directory to which we'll write our emissions results\n",
        "    output_file=\"emissions.csv\",  # define the name of the file containing our emissions results\n",
        "    # log_level='error' # comment out this line to see regular output\n",
        ")\n",
        "tracker.start()"
      ]
    },
    {
      "cell_type": "markdown",
      "metadata": {
        "id": "MNsP5Ea_HVQE"
      },
      "source": [
        "## **2.3 Measuring Power Usage**\n",
        "\n",
        "First, let's define some commonly used hardware in the field of machine learning:\n",
        "- **CPU:** Central Processing Unit\n",
        "  - Manages all general-purpose programming.\n",
        "- **GPU:** Graphical Processing Unit\n",
        "  - Enhances computer graphics and accelerates machine learning workloads.\n",
        "- **TPU:** Tensor Processing Unit\n",
        "  - Google's custom-built processors to accelerate TensorFlow projects. [TensorFlow](https://www.tensorflow.org/) is a popular open-source deep learning framework developed by Google.\n",
        "- **RAM:** Random Access Memory\n",
        "  - Temporary memory that a computer can access quickly.\n",
        "\n",
        "The main difference between CPU's and newer processors like GPU's and TPU's is the number of cores. You can think of a \"core\" as the basic building block of a processor&mdash;the more cores within a processor, the more processes that hardware can execute at one time.\n",
        "\n",
        "CPU's contain only a handful of cores, which means they can only execute a few processes simultaneously. This is known as _serial processing_.\n",
        "\n",
        "In contrast, GPU's and TPU's have thousands of cores, which means they can break down complicated tasks into thousands (or even millions!) of separate processes and execute them at the same time. This is known as _parallel processing_.\n",
        "\n",
        "For a more intuitive understanding of the difference between serial and parallel processing, I recommend watching the Mythbusters video below."
      ]
    },
    {
      "cell_type": "code",
      "execution_count": null,
      "metadata": {
        "colab": {
          "base_uri": "https://localhost:8080/",
          "height": 321
        },
        "id": "u5nv4i799Uu-",
        "outputId": "ecc67a1b-482e-49f8-ba83-cede8a738fa4"
      },
      "outputs": [
        {
          "output_type": "execute_result",
          "data": {
            "text/plain": [
              "<IPython.lib.display.YouTubeVideo at 0x7f2758f13a00>"
            ],
            "text/html": [
              "\n",
              "        <iframe\n",
              "            width=\"400\"\n",
              "            height=\"300\"\n",
              "            src=\"https://www.youtube.com/embed/-P28LKWTzrI\"\n",
              "            frameborder=\"0\"\n",
              "            allowfullscreen\n",
              "            \n",
              "        ></iframe>\n",
              "        "
            ],
            "image/jpeg": "[encoded data removed]"
          },
          "metadata": {},
          "execution_count": 4
        }
      ],
      "source": [
        "from IPython.display import YouTubeVideo\n",
        "\n",
        "YouTubeVideo(\"-P28LKWTzrI\")"
      ]
    },
    {
      "cell_type": "markdown",
      "metadata": {
        "id": "o5mt9NL59Vbq"
      },
      "source": [
        "#### **2.3.1 Hardware Power Consumption**\n",
        "\n",
        "Hardware power consumption is often measured in Thermal Design Power (TDP), which represents the maximum amount of heat a CPU or GPU will generate under an intense workload.\n",
        "\n",
        "Processors that specialize in parallel processing typically consume more power than CPU's. For example, the median TDP of the [CPU list maintained by CodeCarbon](https://github.com/mlco2/codecarbon/blob/master/codecarbon/data/hardware/cpu_power.csv) is 65 W. Meanwhile, the TDP of GPU's usually exceeds 100 W.\n",
        "\n",
        "This does not mean that leveraging a GPU to train your machine learning model necessarily results in greater emissions. Thanks to parallel processing, GPU's can dramatically shorten the time needed to train a large model and reduce the overall power load from the task.\n",
        "\n",
        "The question of which kind of hardware is \"greener\" depends on the situation. Research has found that there is likely a specific optimal number of cores we could leverage in a given parallel computation to minimize emissions, as illustrated in the plot below [11].\n",
        "\n",
        "<center><p><p> <img src=\"https://miro.medium.com/v2/resize:fit:1400/format:webp/1*bFhKxp5JhjA_RQ_hIo1pHQ.png\" alt=\"alt\" width=\"60%\"/></center>"
      ]
    },
    {
      "cell_type": "markdown",
      "metadata": {
        "id": "xK0oW3QtSOxS"
      },
      "source": [
        "### **2.3.2 CodeCarbon Hardware Tracking**\n",
        "\n",
        "CodeCarbon measures the electricity consumption of the GPU, CPU, and RAM used for executing your code (note that as of April 2023, [TPU’s are not supported](https://github.com/mlco2/codecarbon/issues/116) due to the difficulty of obtaining live power usage for this type of hardware). These measurements are taken at regular time intervals, with a default setting of 15 seconds.\n",
        "\n",
        "Let's see what hardware CodeCarbon has found running under the hood of this Colab notebook. The last 5 lines of the output from when we instantiated the `tracker` object are the most meaningful. Here is what was displayed to me when I ran this notebook in April 2023:\n",
        "```\n",
        "[codecarbon INFO @ 13:07:27]   Available RAM : 12.681 GB\n",
        "[codecarbon INFO @ 13:07:27]   CPU count: 2\n",
        "[codecarbon INFO @ 13:07:27]   CPU model: Intel(R) Xeon(R) CPU @ 2.00GHz\n",
        "[codecarbon INFO @ 13:07:27]   GPU count: 1\n",
        "[codecarbon INFO @ 13:07:27]   GPU model: 1 x Tesla T4\n",
        "```\n",
        "\n",
        "CodeCarbon has assessed the memory of my RAM (12.681 GB) and assumes that each 8 GB of memory accounts for 3 W of power. Therefore, CodeCarbon will multiply our RAM's memory by 3/8 to determine the power consumption in watts. In our case, that comes out to about 4.76 W.\n",
        "\n",
        "CodeCarbon has also counted two Intel(R) Xeon(R) CPU's. You might notice a WARNING in your output that reads:\n",
        "```\n",
        "[codecarbon WARNING @ 13:07:25] No CPU tracking mode found. Falling back on CPU constant mode.\n",
        "```\n",
        "This means that Colab does not expose enough information about the available CPU's for CodeCarbon to accurately assess their power consumption. To compensate, CodeCarbon will assign a constant TDP of 85 W for all CPU power expenditure and assumes that only half of that TDP is consumed on average. Therefore the final power assigned to our CPU's is 42.5 W.\n",
        "\n",
        "Finally, we note that CodeCarbon has found one Nvidia Tesla T4 GPU. CodeCarbon leverages Nvidia's [`pynvml`](https://pypi.org/project/pynvml/) library to directly access the GPU's power rating."
      ]
    },
    {
      "cell_type": "code",
      "execution_count": null,
      "metadata": {
        "colab": {
          "base_uri": "https://localhost:8080/"
        },
        "id": "tPfxII2JAv47",
        "outputId": "d5015c37-8b2b-4064-867f-33be488a04e4"
      },
      "outputs": [
        {
          "output_type": "stream",
          "name": "stdout",
          "text": [
            "All hardware identified: [RAM(), GPU() (Tesla T4), CPU(Intel(R) Xeon(R) CPU @ 2.30GHz > 85W [generic])]\n",
            "GPU Power: Power(kW=0.010953)\n"
          ]
        }
      ],
      "source": [
        "# Note that CodeCarbon will output the energy consumption every time you execute code\n",
        "# Comment out the `log_level` argument when instantiating the tracker to suppress this output\n",
        "print(\"All hardware identified:\", tracker._hardware)\n",
        "print(\"GPU Power:\", tracker._hardware[1].total_power())"
      ]
    },
    {
      "cell_type": "markdown",
      "metadata": {
        "id": "dzIS1dByHVSv"
      },
      "source": [
        "## **2.4 Measuring Carbon Intensity**\n",
        "\n",
        "CodeCarbon calculates a weighted average of the emissions from the energy sources that make up your local grid (or the grid used by your cloud provider). When available, CodeCarbon uses the global carbon intensity of electricity per [cloud provider](https://github.com/mlco2/codecarbon/blob/master/codecarbon/data/cloud/impact.csv) or per [country](https://github.com/mlco2/codecarbon/blob/master/codecarbon/data/private_infra/eu-carbon-intensity-electricity.csv).  \n",
        "\n",
        "If the carbon intensity of a particular country is unavailable, CodeCarbon may still have access to its electricity mix and will use the [carbon intensities of each energy source](https://mlco2.github.io/codecarbon/methodology.html#id4) to calculate the weighted average. Note that the package assigns the same carbon intensity to an energy source regardless of where the energy is produced (i.e. coal's carbon intensity is considered to be the same in both West Virginia and Germany).\n",
        "\n",
        "If neither the country’s carbon intensity or its energy mix is available, CodeCarbon applies the world average of 475 g CO<sub>2</sub>eq/kWh. Note that \"CO<sub>2</sub>eq\" stands for \"carbon dioxide equivalents\" and represents the global warming potential of various greenhouse gases.\n",
        "\n",
        "> **IMPORTANT NOTE:** Given the simplifying assumptions on an energy grid's carbon intensity listed above, the emissions returned by CodeCarbon are only an estimate!\n",
        "\n"
      ]
    },
    {
      "cell_type": "markdown",
      "metadata": {
        "id": "Ypst6PAlMsQ7"
      },
      "source": [
        "### 2.4.1 Colab Compute Region\n",
        "\n",
        "Let's determine what compute region Colab has selected."
      ]
    },
    {
      "cell_type": "code",
      "execution_count": null,
      "metadata": {
        "colab": {
          "base_uri": "https://localhost:8080/"
        },
        "id": "Ay6ihbyzS5Iw",
        "outputId": "f2d83e82-58a9-4561-b9fe-086e54b9a3e1"
      },
      "outputs": [
        {
          "output_type": "execute_result",
          "data": {
            "text/plain": [
              "GeoMetadata(country_iso_code=USA, country_name=United States, region=iowa)"
            ]
          },
          "metadata": {},
          "execution_count": 6
        }
      ],
      "source": [
        "tracker._geo"
      ]
    },
    {
      "cell_type": "markdown",
      "metadata": {
        "id": "l2WlrtN-dChs"
      },
      "source": [
        "Colab has connected to Google's data center in Iowa to execute my code. Note that Colab might connect to a different region every time you restart your runtime. For example, I'm physically located in Chicago but Colab often connects me to Singapore's data center!\n",
        "\n",
        "[CodeCarbon's data](https://github.com/mlco2/codecarbon/blob/master/codecarbon/data/private_infra/2016/usa_emissions.json) estimates that Iowa's energy grid has an energy intensity of about 998 lbs CO<sub>2</sub>eq per MWh as of 2016. Unfortunately, CodeCarbon does not have more recent estimates of energy intensity for regions in the USA or Canada.\n",
        "\n",
        "A quick scan of CodeCarbon's 2016 [USA energy intensities](https://github.com/mlco2/codecarbon/blob/master/codecarbon/data/private_infra/2016/usa_emissions.json) shows that Iowa falls somewhere in the middle of U.S. states. If we wanted to optimize our energy efficiency, we might restart our runtime until we connected to Vermont (57 lbs CO<sub>2</sub>eq/MWh) or Idaho (189 lbs CO<sub>2</sub>eq/MWh).\n",
        "\n",
        "This kind of energy efficiency optimization is much easier for cloud environments such as AWS, GCP, or Azure that allow you to choose which compute region you'd like to connect to."
      ]
    },
    {
      "cell_type": "markdown",
      "metadata": {
        "id": "XFohx58pjAhr"
      },
      "source": [
        "## **2.5 CodeCarbon Dashboard**\n",
        "\n",
        "Stopping the tracker will total up all the energy consumed by this hardware since the tracker's initialization and multiply by our grid's energy intensity to estimate emissions in CO<sub>2</sub>eq.\n",
        "\n",
        "> **IMPORTANT NOTE**: Since it is unlikely that Colab will provision you with the same underlying hardware and connect you to the same compute region as when I ran this notebook, your emissions from running this code will probably differ from those currently displayed in the tutorial!\n",
        "\n",
        "Once stopped, the tracker will create a new file (in this case titled `emissions.csv`) in our notebook's working directory with info on the emissions generated from this experiment"
      ]
    },
    {
      "cell_type": "code",
      "execution_count": null,
      "metadata": {
        "colab": {
          "base_uri": "https://localhost:8080/"
        },
        "id": "_6uoGPO7RL44",
        "outputId": "acf0fa09-b7d4-4361-ffd6-95a03cb10b0b"
      },
      "outputs": [
        {
          "output_type": "stream",
          "name": "stderr",
          "text": [
            "[codecarbon INFO @ 13:36:56] Energy consumed for RAM : 0.000000 kWh. RAM Power : 4.755446434020996 W\n",
            "[codecarbon INFO @ 13:36:56] Energy consumed for all GPUs : 0.000000 kWh. All GPUs Power : 10.953 W\n",
            "[codecarbon INFO @ 13:36:56] Energy consumed for all CPUs : 0.000001 kWh. All CPUs Power : 42.5 W\n",
            "[codecarbon INFO @ 13:36:56] 0.000001 kWh of electricity used since the begining.\n"
          ]
        },
        {
          "output_type": "stream",
          "name": "stdout",
          "text": [
            "Emissions from this training run: 0.000001 kg CO2eq\n"
          ]
        }
      ],
      "source": [
        "emissions = tracker.stop()\n",
        "print(f\"Emissions from this training run: {emissions:5f} kg CO2eq\")"
      ]
    },
    {
      "cell_type": "markdown",
      "metadata": {
        "id": "VxyFPmTwnFBL"
      },
      "source": [
        "We can also contextualize these emissions via CodeCarbon's dashboard.\n",
        "\n",
        "This dashboard is hosted via a Dash app. In order to access this app on Colab's servers, we'll need a proxy link. After executing the cell below, click on the link next to the text stating \"CLICK HERE\". Once you're done reviewing the dashboard, click on the cell's stop button ⏹."
      ]
    },
    {
      "cell_type": "code",
      "execution_count": null,
      "metadata": {
        "id": "kW41tIEWahQY"
      },
      "outputs": [],
      "source": [
        "## UNCOMMENT THIS CELL TO RUN THE CODECARBON DASHBOARD ##\n",
        "\n",
        "# # Display the proxy link\n",
        "# print(\"CLICK HERE:\", eval_js(\"google.colab.kernel.proxyPort(8050)\"), \"\\n\")\n",
        "\n",
        "# # Point to our emissions csv file\n",
        "# !carbonboard --filepath=\"code_carbon/emissions.csv\" --port=8050"
      ]
    },
    {
      "cell_type": "markdown",
      "metadata": {
        "id": "Er4xBXedoNTe"
      },
      "source": [
        "When I ran this notebook in April 2023, executing just a few cells of code to assess our underlying hardware and compute region resulted in carbon emissions equivalent to watching 7 minutes of a 32-inch LCD TV.  "
      ]
    },
    {
      "cell_type": "markdown",
      "metadata": {
        "id": "8WBpou7FXKKh"
      },
      "source": [
        "<a name=\"codecarbon-experiments\"></a>\n",
        "# **3. CodeCarbon Experiments**\n",
        "\n",
        "Let's try tracking our carbon emissions while training a machine learning model. We'll also explore a few techniques to train in a more efficient way and reduce our emissions."
      ]
    },
    {
      "cell_type": "markdown",
      "metadata": {
        "id": "qL9_-2ilI0qv"
      },
      "source": [
        "## **3.1 Generate Training and Test Data**\n",
        "\n",
        "We'll use the same data as the [Forecasting the El Nino / Southern Oscillation with Machine Learning tutorial](https://colab.research.google.com/drive/1nOL7rB8EnFTvLoarerVOtECYBwJKth-t?usp=sharing) from earlier in the Summer School program. Remember that the goal of that tutorial was to leverage historical sea surface temperatures to correctly forecast the Nino3.4 index, which indicates the state of El Nino / Southern Oscillation (ENSO).\n",
        "\n",
        "We'll move quickly through this data preparation section as the focus of this tutorial is on model training and emissions tracking. For a more detailed walkthrough, please reference the original forecasting tutorial."
      ]
    },
    {
      "cell_type": "code",
      "execution_count": null,
      "metadata": {
        "colab": {
          "base_uri": "https://localhost:8080/"
        },
        "id": "P79X72ZCI2TA",
        "outputId": "5b63a685-1e28-4223-c8ac-96ecd03af37a"
      },
      "outputs": [
        {
          "output_type": "stream",
          "name": "stdout",
          "text": [
            "/usr/local/lib/python3.9/dist-packages/gdown/cli.py:121: FutureWarning: Option `--id` was deprecated in version 4.3.1 and will be removed in 5.0. You don't need to pass it anymore to use a file ID.\n",
            "  warnings.warn(\n",
            "Downloading...\n",
            "From: https://drive.google.com/uc?id=1aGvitA8rYrHRDxNd2XD4AAFsahCQsv0t\n",
            "To: /content/nino34.long.anom.data.txt\n",
            "100% 15.4k/15.4k [00:00<00:00, 28.3MB/s]\n"
          ]
        }
      ],
      "source": [
        "# Download Nino3.4 index (this index measures the state of ENSO by encoding the\n",
        "# average temperature anomaly in the equatorial Pacific)\n",
        "!gdown --id 1aGvitA8rYrHRDxNd2XD4AAFsahCQsv0t"
      ]
    },
    {
      "cell_type": "code",
      "execution_count": null,
      "metadata": {
        "colab": {
          "base_uri": "https://localhost:8080/"
        },
        "id": "_GNyqemwGwr9",
        "outputId": "f8deae8b-98da-4e6b-b000-d2dcefbae50e"
      },
      "outputs": [
        {
          "output_type": "stream",
          "name": "stdout",
          "text": [
            "Downloading...\n",
            "From: https://drive.google.com/uc?id=1-xefk3imP4Q-8GevIV2YIo82iP5rTdSc\n",
            "To: /content/sst.mon.mean.trefadj.anom.1880to2018.nc\n",
            "100% 432M/432M [00:02<00:00, 149MB/s]\n"
          ]
        }
      ],
      "source": [
        "# Download sst observations from 1880 to 2018\n",
        "!gdown 1-xefk3imP4Q-8GevIV2YIo82iP5rTdSc"
      ]
    },
    {
      "cell_type": "code",
      "execution_count": null,
      "metadata": {
        "id": "TM7hyGz3Ry8e"
      },
      "outputs": [],
      "source": [
        "def load_enso_indices():\n",
        "    \"\"\"\n",
        "    Reads in the txt data file to output a pandas Series of ENSO vals\n",
        "\n",
        "    Returns:\n",
        "      pd.Series: monthly ENSO values starting from 1870-01-01\n",
        "    \"\"\"\n",
        "    with open(\"nino34.long.anom.data.txt\") as f:\n",
        "        line = f.readline()\n",
        "        enso_vals = []\n",
        "        while line:\n",
        "            yearly_enso_vals = map(float, line.split()[1:])\n",
        "            enso_vals.extend(yearly_enso_vals)\n",
        "            line = f.readline()\n",
        "\n",
        "    enso_vals = pd.Series(enso_vals)\n",
        "    enso_vals.index = pd.date_range(\"1870-01-01\", freq=\"MS\", periods=len(enso_vals))\n",
        "    enso_vals.index = pd.to_datetime(enso_vals.index)\n",
        "    return enso_vals\n",
        "\n",
        "\n",
        "def assemble_basic_predictors_predictands(start_date, end_date, lead_time):\n",
        "    \"\"\"\n",
        "    Creates a tuple of the predictors (np array of sst temperature anomalies)\n",
        "    and the predictands (np array the ENSO index at the specified lead time).\n",
        "\n",
        "    Parameters:\n",
        "        start_date (str): the start date from which to extract sst\n",
        "        end_date (str): the end date\n",
        "        lead_time (str): the number of months between each sst\n",
        "            value and the target Nino3.4 Index\n",
        "\n",
        "    Returns:\n",
        "        (np.array, np.array)\n",
        "\n",
        "    \"\"\"\n",
        "    ds = xr.open_dataset(\"sst.mon.mean.trefadj.anom.1880to2018.nc\")\n",
        "    sst = ds[\"sst\"].sel(time=slice(start_date, end_date))\n",
        "    num_time_steps = sst.shape[0]\n",
        "\n",
        "    # sst is a 3D array: (time_steps, lat, lon)\n",
        "    # in this tutorial, we will not be using ML models that take\n",
        "    # advantage of the spatial nature of global temperature\n",
        "    # therefore, we reshape sst into a 2D array: (time_steps, lat*lon)\n",
        "    # (At each time step, there are lat*lon predictors)\n",
        "    sst = sst.values.reshape(num_time_steps, -1)\n",
        "    sst[np.isnan(sst)] = 0\n",
        "\n",
        "    X = sst\n",
        "\n",
        "    start_date_plus_lead = pd.to_datetime(start_date) + pd.DateOffset(months=lead_time)\n",
        "    end_date_plus_lead = pd.to_datetime(end_date) + pd.DateOffset(months=lead_time)\n",
        "    y = load_enso_indices()[slice(start_date_plus_lead, end_date_plus_lead)]\n",
        "\n",
        "    ds.close()\n",
        "    return X, y\n",
        "\n",
        "\n",
        "def plot_nino_time_series(y, predictions, title):\n",
        "    \"\"\"\n",
        "    Plots the ENSO time series against the predictions.\n",
        "\n",
        "    Parameters:\n",
        "      y (pd.Series): time series of the true Nino index\n",
        "      predictions (np.array): time series of the predicted Nino index (same\n",
        "          length and time as y)\n",
        "      title (str): the title of the plot\n",
        "\n",
        "    Returns:\n",
        "      (None): Displays the plot\n",
        "    \"\"\"\n",
        "    predictions = pd.Series(predictions, index=y.index)\n",
        "    predictions = predictions.sort_index()\n",
        "    y = y.sort_index()\n",
        "\n",
        "    plt.plot(y, label=\"Ground Truth\")\n",
        "    plt.plot(predictions, \"--\", label=\"ML Predictions\")\n",
        "    plt.legend(loc=\"best\")\n",
        "    plt.title(title)\n",
        "    plt.ylabel(\"Nino3.4 Index\")\n",
        "    plt.xlabel(\"Date\")\n",
        "    plt.show()\n",
        "    plt.close()"
      ]
    },
    {
      "cell_type": "markdown",
      "metadata": {
        "id": "ypoInWXPDyUw"
      },
      "source": [
        "## **3.2 Algorithm Choice**\n",
        "\n",
        "One of the easiest ways to reduce emissions is by choosing a simpler algorithm. We often don't need to immediately reach for a complicated neural network when a more traditional machine learning method would suffice.\n"
      ]
    },
    {
      "cell_type": "markdown",
      "metadata": {
        "id": "EA37KNvgHiwc"
      },
      "source": [
        "<table style=\"text-align: center;\" width=\"50%\">\n",
        "<tr>\n",
        "  <td>\n",
        "   <img src=\"https://external-preview.redd.it/khzQQ3xzswIW4HGIvesRWJXvCbnvdWNarIyU4-GVl2I.jpg?width=640&crop=smart&auto=webp&s=180b2912c6bef455fcb4ef7565dd5093edbabe23\" width=\"100%\">\n",
        "  </td>\n",
        "</tr>\n",
        "<tr>\n",
        "  <th>Applying a neural network when linear regression would do.</a></th>\n",
        "</tr>\n",
        "</table>"
      ]
    },
    {
      "cell_type": "markdown",
      "metadata": {
        "id": "C1wfV4vVIaT2"
      },
      "source": [
        "We'll discuss more about the potential trade-offs involved in choosing a simple algorithm over a more complicated one at the end of this section. For now, we'll focus on training two different models and capturing the emissions from each one.\n",
        "\n",
        "\n"
      ]
    },
    {
      "cell_type": "markdown",
      "metadata": {
        "id": "JyDn8xGIGPq2"
      },
      "source": [
        "### **3.2.1 Training a Baseline Model: Linear Regression**\n",
        "\n",
        "Let's first attempt to model ENSO using linear regression. We'll track the emissions associated with training this simple model."
      ]
    },
    {
      "cell_type": "code",
      "execution_count": null,
      "metadata": {
        "id": "3dBBtJ65Bs4S"
      },
      "outputs": [],
      "source": [
        "experiment_name = \"linear_regression\"\n",
        "\n",
        "tracker = EmissionsTracker(\n",
        "    output_dir=\"./code_carbon/\",\n",
        "    output_file=f\"{experiment_name}_emissions.csv\",\n",
        "    log_level=\"error\",  # comment out this line to see regular output\n",
        ")\n",
        "tracker.start()"
      ]
    },
    {
      "cell_type": "code",
      "execution_count": null,
      "metadata": {
        "colab": {
          "base_uri": "https://localhost:8080/",
          "height": 510
        },
        "id": "gPXbNl_TLHQQ",
        "outputId": "9fa68ae0-64a7-4098-e37c-e009010dc14e"
      },
      "outputs": [
        {
          "output_type": "stream",
          "name": "stdout",
          "text": [
            "RMSE: 0.53\n"
          ]
        },
        {
          "output_type": "display_data",
          "data": {
            "text/plain": [
              "<Figure size 640x480 with 1 Axes>"
            ],
            "image/png": "[encoded data removed]"
          },
          "metadata": {}
        }
      ],
      "source": [
        "# Load train, val, and test sets\n",
        "X_train, y_train = assemble_basic_predictors_predictands(\n",
        "    \"1980-01-01\", \"1995-12-31\", lead_time=1\n",
        ")\n",
        "X_val, y_val = assemble_basic_predictors_predictands(\n",
        "    \"1997-01-01\", \"2006-12-31\", lead_time=1\n",
        ")\n",
        "X_test, y_test = assemble_basic_predictors_predictands(\n",
        "    \"2007-01-01\", \"2017-12-31\", lead_time=1\n",
        ")\n",
        "\n",
        "# Train a linear regression model\n",
        "regr = sklearn.linear_model.LinearRegression()\n",
        "regr.fit(X_train, y_train)\n",
        "\n",
        "predictions = regr.predict(X_val)\n",
        "corr, _ = scipy.stats.pearsonr(predictions, y_val)\n",
        "baseline_rmse = mean_squared_error(y_val, predictions, squared=False)\n",
        "print(\"RMSE: {:.2f}\".format(baseline_rmse))\n",
        "\n",
        "# Plot predictions against actuals\n",
        "plot_nino_time_series(\n",
        "    y_val,\n",
        "    predictions,\n",
        "    \"Predicted and True Nino3.4 Indices on Training Set at 1 Month Lead Time. \\n Corr: {:.2f}\".format(\n",
        "        corr\n",
        "    ),\n",
        ")"
      ]
    },
    {
      "cell_type": "code",
      "execution_count": null,
      "metadata": {
        "colab": {
          "base_uri": "https://localhost:8080/"
        },
        "id": "igPObPWtY4MH",
        "outputId": "d4dec03c-7e6a-4af1-9b55-7944226ae55d"
      },
      "outputs": [
        {
          "output_type": "stream",
          "name": "stdout",
          "text": [
            "Emissions from this training run: 0.00004 kg CO2eq\n"
          ]
        }
      ],
      "source": [
        "# Evaluate emissions\n",
        "baseline_emissions = tracker.stop()\n",
        "print(f\"Emissions from this training run: {baseline_emissions:.5f} kg CO2eq\")"
      ]
    },
    {
      "cell_type": "markdown",
      "metadata": {
        "id": "7Swv-0BoGnET"
      },
      "source": [
        "### **3.2.2 Training a CNN**\n",
        "\n",
        "Let's compare the emissions and performance of a linear regression model to a more complex convolutional neural network (CNN).\n",
        "\n",
        "First, we'll define some necessary data wrangling code."
      ]
    },
    {
      "cell_type": "code",
      "execution_count": null,
      "metadata": {
        "id": "7cvVoCA_ljFU"
      },
      "outputs": [],
      "source": [
        "def assemble_predictors_predictands(start_date, end_date, lead_time,\n",
        "                                    num_input_time_steps=1):\n",
        "    \"\"\"\n",
        "    Creates a tuple of the predictors (np array of sst temperature anomalies)\n",
        "    and the predictands (np array the ENSO index at the specified lead time).\n",
        "\n",
        "    Parameters:\n",
        "      start_date (str): the start date from which to extract sst\n",
        "      end_date (str): the end date\n",
        "      lead_time (int): the number of months between each sst value and the\n",
        "          target Nino3.4 Index\n",
        "      num_input_time_steps (int): the number of time steps to use for each\n",
        "          predictor sample\n",
        "\n",
        "    Returns:\n",
        "      (np.array, np.array)\n",
        "\n",
        "    \"\"\"\n",
        "    file_name = \"sst.mon.mean.trefadj.anom.1880to2018.nc\"\n",
        "    variable_name = \"sst\"\n",
        "    ds = xr.open_dataset(file_name)\n",
        "    sst = ds[variable_name].sel(time=slice(start_date, end_date))\n",
        "\n",
        "    num_samples = sst.shape[0]\n",
        "    # sst is a (num_samples, lat, lon) array\n",
        "    # the line below converts it to (num_samples, num_input_time_steps, lat, lon)\n",
        "    sst = np.stack(\n",
        "        [\n",
        "            sst.values[n - num_input_time_steps : n]\n",
        "            for n in range(num_input_time_steps, num_samples + 1)\n",
        "        ]\n",
        "    )\n",
        "    num_samples = sst.shape[0]\n",
        "    sst[np.isnan(sst)] = 0\n",
        "    X = sst\n",
        "\n",
        "    start_date_plus_lead = pd.to_datetime(start_date) + pd.DateOffset(\n",
        "        months=lead_time + num_input_time_steps - 1\n",
        "    )\n",
        "    end_date_plus_lead = pd.to_datetime(end_date) + pd.DateOffset(months=lead_time)\n",
        "    y = load_enso_indices()[slice(start_date_plus_lead, end_date_plus_lead)]\n",
        "    ds.close()\n",
        "    return X.astype(np.float32), y.astype(np.float32)\n",
        "\n",
        "\n",
        "class ENSODataset(Dataset):\n",
        "    def __init__(self, predictors, predictands):\n",
        "        self.predictors = predictors\n",
        "        self.predictands = predictands\n",
        "        assert (\n",
        "            self.predictors.shape[0] == self.predictands.shape[0]\n",
        "        ), \"The number of predictors must equal the number of predictands!\"\n",
        "\n",
        "    def __len__(self):\n",
        "        return self.predictors.shape[0]\n",
        "\n",
        "    def __getitem__(self, idx):\n",
        "        return self.predictors[idx], self.predictands[idx]"
      ]
    },
    {
      "cell_type": "markdown",
      "source": [
        "Now we'll define the architecture of our convolutional neural network."
      ],
      "metadata": {
        "id": "krxiHdPvCkOU"
      }
    },
    {
      "cell_type": "code",
      "execution_count": null,
      "metadata": {
        "id": "_uuT1tFlrYjI"
      },
      "outputs": [],
      "source": [
        "class CNN(nn.Module):\n",
        "    def __init__(self, num_input_time_steps=1, print_feature_dimension=False):\n",
        "        \"\"\"\n",
        "        Constructs all the necessary attributes for the CNN class.\n",
        "\n",
        "        Parameters:\n",
        "          num_input_time_steps (int) : the number of input time steps in the predictor\n",
        "          print_feature_dimension (bool) : whether or not to print out the dimension\n",
        "              of the features extracted from the conv layers\n",
        "        \"\"\"\n",
        "        super(CNN, self).__init__()\n",
        "        self.conv1 = nn.Conv2d(num_input_time_steps, 6, 3)\n",
        "        self.pool = nn.MaxPool2d(2, 2)\n",
        "        self.conv2 = nn.Conv2d(6, 16, 5)\n",
        "        self.print_layer = Print()\n",
        "\n",
        "        # TIP: print out the dimension of the extracted features from\n",
        "        # the conv layers for setting the dimension of the linear layer!\n",
        "        # Using the print_layer, we find that the dimensions are\n",
        "        # (batch_size, 16, 42, 87)\n",
        "        self.fc1 = nn.Linear(16 * 42 * 87, 120)\n",
        "        self.fc2 = nn.Linear(120, 84)\n",
        "        self.fc3 = nn.Linear(84, 1)\n",
        "        self.print_feature_dimension = print_feature_dimension\n",
        "\n",
        "    def forward(self, x):\n",
        "        x = self.pool(F.relu(self.conv1(x)))\n",
        "        x = self.pool(F.relu(self.conv2(x)))\n",
        "        if self.print_feature_dimension:\n",
        "            x = self.print_layer(x)\n",
        "        x = x.view(-1, 16 * 42 * 87)\n",
        "        x = F.relu(self.fc1(x))\n",
        "        x = F.relu(self.fc2(x))\n",
        "        x = self.fc3(x)\n",
        "        return x\n",
        "\n",
        "\n",
        "class Print(nn.Module):\n",
        "    \"\"\"\n",
        "    This class prints out the size of the features\n",
        "    \"\"\"\n",
        "\n",
        "    def forward(self, x):\n",
        "        print(x.size())\n",
        "        return x"
      ]
    },
    {
      "cell_type": "markdown",
      "metadata": {
        "id": "ssiy4F7KKJ2i"
      },
      "source": [
        "Let's define a class to train our CNN."
      ]
    },
    {
      "cell_type": "code",
      "execution_count": null,
      "metadata": {
        "id": "25cZCmYrvEPm"
      },
      "outputs": [],
      "source": [
        "class TrainCNN:\n",
        "    def __init__(self, trainloader, testloader, net, criterion, optimizer):\n",
        "        \"\"\"\n",
        "        Contains the necessary code for training a CNN.\n",
        "\n",
        "        Parameters\n",
        "          trainloader (torch.utils.data.DataLoader): PyTorch dataloader that loads the\n",
        "              predictors and predictands for the train dataset\n",
        "          testloader (torch.utils.data.DataLoader): PyTorch dataloader that loads the\n",
        "              predictors and predictands for the test dataset\n",
        "          net (nn.Module): Neural network architecture\n",
        "          criterion (nn): Loss function (i.e. root mean squared error)\n",
        "          optimizer (torch.optim): Optimizer to use update the neural network\n",
        "              architecture to minimize the loss function\n",
        "        \"\"\"\n",
        "        self.trainloader = trainloader\n",
        "        self.testloader = testloader\n",
        "        self.net = net\n",
        "        self.criterion = criterion\n",
        "        self.optimizer = optimizer\n",
        "        self.device = \"cuda:0\" if torch.cuda.is_available() else \"cpu\"\n",
        "        self.train_losses = []\n",
        "        self.test_losses = []\n",
        "        self.best_loss = np.infty\n",
        "\n",
        "    def _calculate_loss(self, data):\n",
        "        \"\"\"\n",
        "        Calculates the loss of the current model.\n",
        "\n",
        "        Parameters:\n",
        "          data (torch.Tensor): Predictors and predictands against which to\n",
        "              calculate loss of the current model\n",
        "\n",
        "        Returns:\n",
        "            torch.Tensor\n",
        "        \"\"\"\n",
        "        # Get a mini-batch of predictors and predictands\n",
        "        batch_predictors, batch_predictands = data\n",
        "        batch_predictands = batch_predictands.to(self.device)\n",
        "        batch_predictors = batch_predictors.to(self.device)\n",
        "\n",
        "        # Zero the parameter gradients\n",
        "        self.optimizer.zero_grad()\n",
        "\n",
        "        # Calculate the predictions of the current neural network\n",
        "        predictions = self.net(batch_predictors).squeeze(1)\n",
        "\n",
        "        # Quantify the quality of the predictions using a\n",
        "        # loss function (aka criterion) that is differentiable\n",
        "        loss = self.criterion(predictions, batch_predictands)\n",
        "        return loss\n",
        "\n",
        "    def _train(self):\n",
        "        \"\"\"\n",
        "        Trains the CNN for one iteration.\n",
        "\n",
        "        Returns:\n",
        "            None: Appends the current training loss\n",
        "        \"\"\"\n",
        "        running_loss = 0.0\n",
        "        self.net.train()\n",
        "\n",
        "        for i, data in enumerate(self.trainloader):\n",
        "            loss = self._calculate_loss(data)\n",
        "\n",
        "            # The backward pass: calculates the gradients of each weight\n",
        "            # of the neural network with respect to the loss\n",
        "            loss.backward()\n",
        "\n",
        "            # The optimizer updates the weights of the neural network\n",
        "            # based on the gradients calculated above and the choice\n",
        "            # of optimization algorithm\n",
        "            self.optimizer.step()\n",
        "\n",
        "            # Save the model weights that have the best performance!\n",
        "            running_loss += loss.item()\n",
        "\n",
        "        self.train_losses.append(running_loss / len(self.trainloader))\n",
        "\n",
        "    def _evaluate_epoch(self):\n",
        "        \"\"\"\n",
        "        Evaluates the test loss at the current epoch and updates the best loss\n",
        "        if current loss is less than the previous best loss.\n",
        "\n",
        "        Return:\n",
        "          None: Appends the current test loss\n",
        "        \"\"\"\n",
        "        running_loss = 0.0\n",
        "        self.net.eval()\n",
        "\n",
        "        for i, data in enumerate(self.testloader):\n",
        "            loss = self._calculate_loss(data)\n",
        "            running_loss += loss.item()\n",
        "\n",
        "        if running_loss < self.best_loss:\n",
        "            self.best_loss = running_loss\n",
        "            torch.save(self.net, \"current_best_cnn.pt\")\n",
        "\n",
        "        self.test_losses.append(running_loss / len(self.testloader))\n",
        "\n",
        "    def train_network(self, num_epochs=40, verbose=True):\n",
        "        \"\"\"\n",
        "        Trains a neural network for a specified number of epochs.\n",
        "\n",
        "        Parameters:\n",
        "          num_epochs (int): Number of epochs for which to train the network\n",
        "          verbose (bool): Whether or not to print the current train and test loss\n",
        "\n",
        "        Returns:\n",
        "          None\n",
        "        \"\"\"\n",
        "        net = self.net.to(self.device)\n",
        "        for epoch in range(num_epochs):\n",
        "            self._train()\n",
        "            self._evaluate_epoch()\n",
        "            if verbose:\n",
        "                print(\n",
        "                    \"train Set: Epoch {:02d}. loss: {:3f}\".format(\n",
        "                        epoch + 1, self.train_losses[-1]\n",
        "                    )\n",
        "                )\n",
        "                print(\n",
        "                    \"test Set: Epoch {:02d}. loss: {:3f}\".format(\n",
        "                        epoch + 1, self.test_losses[-1]\n",
        "                    )\n",
        "                )\n",
        "\n",
        "        self.net = torch.load(\"current_best_cnn.pt\")\n",
        "        self.net.eval()\n",
        "        self.net.to(self.device)\n",
        "\n",
        "    def evaluate_best_model(self):\n",
        "        \"\"\"\n",
        "        Makes predictions against the current best model.\n",
        "\n",
        "        Returns:\n",
        "          np.array: Predictions from the model\n",
        "        \"\"\"\n",
        "        if self.best_loss == np.infty:\n",
        "            raise Exception(\"The model has not yet been trained!\")\n",
        "\n",
        "        predictions = np.asarray([])\n",
        "        for i, data in enumerate(self.testloader):\n",
        "            batch_predictors, batch_predictands = data\n",
        "            batch_predictands = batch_predictands.to(self.device)\n",
        "            batch_predictors = batch_predictors.to(self.device)\n",
        "\n",
        "            batch_predictions = self.net(batch_predictors).squeeze()\n",
        "            # Edge case: if there is 1 item in the batch, batch_predictions becomes a float\n",
        "            # not a Tensor. the if statement below converts it to a Tensor\n",
        "            # so that it is compatible with np.concatenate\n",
        "            if len(batch_predictions.size()) == 0:\n",
        "                batch_predictions = torch.Tensor([batch_predictions])\n",
        "            predictions = np.concatenate(\n",
        "                [predictions, batch_predictions.detach().cpu().numpy()]\n",
        "            )\n",
        "        return predictions"
      ]
    },
    {
      "cell_type": "markdown",
      "metadata": {
        "id": "vQ02x64HEkeS"
      },
      "source": [
        "Now we'll kick off a new CodeCarbon experiment to track emissions from training this simple CNN."
      ]
    },
    {
      "cell_type": "code",
      "execution_count": null,
      "metadata": {
        "id": "ruN5CBizVJmK"
      },
      "outputs": [],
      "source": [
        "experiment_name = \"cnn\"\n",
        "\n",
        "tracker = EmissionsTracker(\n",
        "    output_dir=\"./code_carbon/\",\n",
        "    output_file=f\"{experiment_name}_emissions.csv\",\n",
        "    log_level=\"error\",  # comment out this line to see regular output\n",
        ")\n",
        "tracker.start()"
      ]
    },
    {
      "cell_type": "code",
      "execution_count": null,
      "metadata": {
        "id": "ESbl0borVJiA"
      },
      "outputs": [],
      "source": [
        "# Assemble numpy arrays corresponding to predictors and predictands\n",
        "train_start_date = \"1960-01-01\"\n",
        "train_end_date = \"2005-12-31\"\n",
        "num_input_time_steps = 1\n",
        "lead_time = 1\n",
        "\n",
        "train_predictors, train_predictands = assemble_predictors_predictands(\n",
        "    train_start_date,\n",
        "    train_end_date,\n",
        "    lead_time,\n",
        "    num_input_time_steps=num_input_time_steps,\n",
        ")\n",
        "test_predictors, test_predictands = assemble_predictors_predictands(\n",
        "    \"2007-01-01\",\n",
        "    \"2017-12-31\",\n",
        "    lead_time,\n",
        "    num_input_time_steps=num_input_time_steps,\n",
        ")\n",
        "\n",
        "# Convert the numpy ararys into ENSODataset, which is a subset of the\n",
        "# torch.utils.data.Dataset class.  This class is compatible with\n",
        "# the torch dataloader, which allows for data loading for a CNN\n",
        "train_dataset = ENSODataset(train_predictors, train_predictands)\n",
        "test_dataset = ENSODataset(test_predictors, test_predictands)\n",
        "\n",
        "# Create a torch.utils.data.DataLoader from the ENSODatasets() created earlier!\n",
        "trainloader = DataLoader(train_dataset, batch_size=10)\n",
        "testloader = DataLoader(test_dataset, batch_size=10)"
      ]
    },
    {
      "cell_type": "code",
      "execution_count": null,
      "metadata": {
        "colab": {
          "base_uri": "https://localhost:8080/"
        },
        "id": "XobO2iPzuSnM",
        "outputId": "c8c19403-eb74-4d96-daeb-f2f2be59d94b"
      },
      "outputs": [
        {
          "output_type": "stream",
          "name": "stdout",
          "text": [
            "train Set: Epoch 01. loss: 0.495984\n",
            "test Set: Epoch 01. loss: 0.224990\n",
            "train Set: Epoch 02. loss: 0.144434\n",
            "test Set: Epoch 02. loss: 0.147177\n",
            "train Set: Epoch 03. loss: 0.075182\n",
            "test Set: Epoch 03. loss: 0.088368\n",
            "train Set: Epoch 04. loss: 0.068119\n",
            "test Set: Epoch 04. loss: 0.145527\n",
            "train Set: Epoch 05. loss: 0.097358\n",
            "test Set: Epoch 05. loss: 0.146758\n",
            "train Set: Epoch 06. loss: 0.074480\n",
            "test Set: Epoch 06. loss: 0.165589\n",
            "train Set: Epoch 07. loss: 0.092748\n",
            "test Set: Epoch 07. loss: 0.123914\n",
            "train Set: Epoch 08. loss: 0.060070\n",
            "test Set: Epoch 08. loss: 0.106386\n",
            "train Set: Epoch 09. loss: 0.050162\n",
            "test Set: Epoch 09. loss: 0.101152\n",
            "train Set: Epoch 10. loss: 0.050120\n",
            "test Set: Epoch 10. loss: 0.111407\n",
            "train Set: Epoch 11. loss: 0.060003\n",
            "test Set: Epoch 11. loss: 0.174386\n",
            "train Set: Epoch 12. loss: 0.060206\n",
            "test Set: Epoch 12. loss: 0.176652\n",
            "train Set: Epoch 13. loss: 0.051918\n",
            "test Set: Epoch 13. loss: 0.115601\n",
            "train Set: Epoch 14. loss: 0.053289\n",
            "test Set: Epoch 14. loss: 0.091077\n",
            "train Set: Epoch 15. loss: 0.047325\n",
            "test Set: Epoch 15. loss: 0.138683\n",
            "train Set: Epoch 16. loss: 0.037936\n",
            "test Set: Epoch 16. loss: 0.131802\n",
            "train Set: Epoch 17. loss: 0.036714\n",
            "test Set: Epoch 17. loss: 0.109128\n",
            "train Set: Epoch 18. loss: 0.032300\n",
            "test Set: Epoch 18. loss: 0.103742\n",
            "train Set: Epoch 19. loss: 0.026258\n",
            "test Set: Epoch 19. loss: 0.119534\n",
            "train Set: Epoch 20. loss: 0.026654\n",
            "test Set: Epoch 20. loss: 0.137636\n",
            "train Set: Epoch 21. loss: 0.022095\n",
            "test Set: Epoch 21. loss: 0.130337\n",
            "train Set: Epoch 22. loss: 0.018588\n",
            "test Set: Epoch 22. loss: 0.120702\n",
            "train Set: Epoch 23. loss: 0.019395\n",
            "test Set: Epoch 23. loss: 0.122992\n",
            "train Set: Epoch 24. loss: 0.019849\n",
            "test Set: Epoch 24. loss: 0.122877\n",
            "train Set: Epoch 25. loss: 0.022911\n",
            "test Set: Epoch 25. loss: 0.119652\n",
            "train Set: Epoch 26. loss: 0.021141\n",
            "test Set: Epoch 26. loss: 0.119237\n",
            "train Set: Epoch 27. loss: 0.020683\n",
            "test Set: Epoch 27. loss: 0.131150\n",
            "train Set: Epoch 28. loss: 0.020447\n",
            "test Set: Epoch 28. loss: 0.163565\n",
            "train Set: Epoch 29. loss: 0.022538\n",
            "test Set: Epoch 29. loss: 0.181687\n",
            "train Set: Epoch 30. loss: 0.021941\n",
            "test Set: Epoch 30. loss: 0.152514\n",
            "train Set: Epoch 31. loss: 0.020372\n",
            "test Set: Epoch 31. loss: 0.124249\n",
            "train Set: Epoch 32. loss: 0.026006\n",
            "test Set: Epoch 32. loss: 0.131925\n",
            "train Set: Epoch 33. loss: 0.032986\n",
            "test Set: Epoch 33. loss: 0.134884\n",
            "train Set: Epoch 34. loss: 0.024455\n",
            "test Set: Epoch 34. loss: 0.142163\n",
            "train Set: Epoch 35. loss: 0.027444\n",
            "test Set: Epoch 35. loss: 0.131139\n",
            "train Set: Epoch 36. loss: 0.022917\n",
            "test Set: Epoch 36. loss: 0.203121\n",
            "train Set: Epoch 37. loss: 0.032641\n",
            "test Set: Epoch 37. loss: 0.196723\n",
            "train Set: Epoch 38. loss: 0.026717\n",
            "test Set: Epoch 38. loss: 0.259870\n",
            "train Set: Epoch 39. loss: 0.023798\n",
            "test Set: Epoch 39. loss: 0.156866\n",
            "train Set: Epoch 40. loss: 0.040343\n",
            "test Set: Epoch 40. loss: 0.138916\n"
          ]
        }
      ],
      "source": [
        "# Train the model\n",
        "net = CNN(num_input_time_steps=num_input_time_steps)\n",
        "optimizer = optim.Adam(net.parameters(), lr=0.0001)\n",
        "cnn_train_session = TrainCNN(\n",
        "    trainloader, testloader, net, criterion=nn.MSELoss(), optimizer=optimizer\n",
        ")\n",
        "cnn_train_session.train_network()\n",
        "\n",
        "# Evaluate predictions from the best performing model\n",
        "predictions = cnn_train_session.evaluate_best_model()"
      ]
    },
    {
      "cell_type": "code",
      "execution_count": null,
      "metadata": {
        "colab": {
          "base_uri": "https://localhost:8080/",
          "height": 472
        },
        "id": "Qf_2d16rVJqT",
        "outputId": "5c6bf2e5-15ec-4bd9-8071-937daeae59e6"
      },
      "outputs": [
        {
          "output_type": "display_data",
          "data": {
            "text/plain": [
              "<Figure size 640x480 with 1 Axes>"
            ],
            "image/png": "[encoded data removed]"
          },
          "metadata": {}
        }
      ],
      "source": [
        "# Plot predictions against actuals over time\n",
        "corr, _ = pearsonr(test_predictands, predictions)\n",
        "cnn_rmse = mean_squared_error(test_predictands, predictions, squared=False)\n",
        "plot_nino_time_series(\n",
        "    test_predictands,\n",
        "    predictions,\n",
        "    \"Predictions. Corr: {:3f}. RMSE: {:3f}.\".format(corr, cnn_rmse),\n",
        ")"
      ]
    },
    {
      "cell_type": "code",
      "execution_count": null,
      "metadata": {
        "colab": {
          "base_uri": "https://localhost:8080/"
        },
        "id": "j2tyYHR_Vkc9",
        "outputId": "ac8b4b6d-0bb8-491f-821f-78c88590ad59"
      },
      "outputs": [
        {
          "output_type": "stream",
          "name": "stdout",
          "text": [
            "Emissions from this training run: 0.000472 kg CO2eq\n"
          ]
        }
      ],
      "source": [
        "# Stopping the tracker will create a new file (emissions.csv) in our notebook's\n",
        "# working directory with info on the emissions generated from this experiment\n",
        "cnn_emissions = tracker.stop()\n",
        "print(f\"Emissions from this training run: {cnn_emissions:5f} kg CO2eq\")"
      ]
    },
    {
      "cell_type": "markdown",
      "source": [
        "⭐ **CHALLENGE:** Try reducing the size of the CNN by removing the second linear layer within the CNN class. How does this change affect the model's performance and efficiency in terms of emissions?"
      ],
      "metadata": {
        "id": "6w9iTWG9_CUX"
      }
    },
    {
      "cell_type": "markdown",
      "metadata": {
        "id": "kdTyK7_fFQb1"
      },
      "source": [
        "### **3.2.3 Comparing Emissions and Accuracy**\n",
        "\n",
        "Let's compare the emissions from training a linear regression model with those from training a CNN."
      ]
    },
    {
      "cell_type": "code",
      "execution_count": null,
      "metadata": {
        "colab": {
          "base_uri": "https://localhost:8080/"
        },
        "id": "6JA03htemKF3",
        "outputId": "7aab482e-2f77-4535-c8e9-106f1f91674d"
      },
      "outputs": [
        {
          "output_type": "stream",
          "name": "stdout",
          "text": [
            "CNN emissions account for 11.5 times the emissions from linear regression.\n"
          ]
        }
      ],
      "source": [
        "print(\n",
        "    f\"CNN emissions account for {cnn_emissions/baseline_emissions:.1f} times the emissions from linear regression.\"\n",
        ")"
      ]
    },
    {
      "cell_type": "markdown",
      "metadata": {
        "id": "nYYt3OG4Tz6B"
      },
      "source": [
        "Wow! Linear regression is the clear environmental winner in terms of reducing carbon impact. Of course, we must also consider the performance of our model. How well does it forecast ENSO? Let's compare the root squared mean error (RMSE) from both models. Remember that a lower RMSE indicates a better fit."
      ]
    },
    {
      "cell_type": "code",
      "execution_count": null,
      "metadata": {
        "colab": {
          "base_uri": "https://localhost:8080/"
        },
        "id": "8KDcIe1ZmM-K",
        "outputId": "682e6fe3-9467-4b23-9ad5-35bc842ee118"
      },
      "outputs": [
        {
          "output_type": "stream",
          "name": "stdout",
          "text": [
            "Previous baseline RMSE: 0.525526\n",
            "Current CNN RMSE: 0.292933\n"
          ]
        }
      ],
      "source": [
        "print(f\"Previous baseline RMSE: {baseline_rmse:5f}\")\n",
        "print(f\"Current CNN RMSE: {cnn_rmse:5f}\")"
      ]
    },
    {
      "cell_type": "markdown",
      "metadata": {
        "id": "NKqpy6JYTzCh"
      },
      "source": [
        "As expected, those extra emissions from training the CNN resulted in a performance boost. Research indicates that ML model quality has a diminishing power-law relationship with energy consumption ($ Q\\:α \\: E^{-k} $, where $Q$ is model quality and $E$ is energy consumed). However, the power of this relationship ($k$) is very small (0.002-0.004) [7]. This means we need to expend a lot more energy for marginal performance gains.\n",
        "\n",
        "Whether or not this extra accuracy is necessary depends on your situation. For example, we'd prioritize accuracy at all costs for a model that detects lung cancer from CT scans. We wouldn't want to miss any early indications on a sick patient and conversely, we wouldn't want to cause undue stress by incorrectly diagnosing a healthy patient with cancer. On the other hand, we might not need the most accurate model when predicting which customers are likely to churn from an online retailer since the cost of being wrong is much lower than our lung cancer example.\n",
        "\n",
        "Let's visualize the relationship between emissions and performance for these two models."
      ]
    },
    {
      "cell_type": "code",
      "execution_count": null,
      "metadata": {
        "id": "odrW_38Iz7Wg"
      },
      "outputs": [],
      "source": [
        "def plot_comparison(results):\n",
        "    \"\"\"\n",
        "    Plots GHG emissions against RMSE.\n",
        "    \"\"\"\n",
        "    fig, ax = plt.subplots(figsize=(5, 5))\n",
        "    ax.bar(results[\"Category\"], results[\"Emissions\"], label=\"Emissions (g CO2eq)\")\n",
        "    ax.set_ylabel(\"Emissions (g CO2eq)\")\n",
        "\n",
        "    ax2 = ax.twinx()\n",
        "    ax2.scatter(\n",
        "        results[\"Category\"], results[\"RMSE\"], color=\"orange\", label=\"RMSE\",\n",
        "    )\n",
        "    ax2.set_ylabel(\"RMSE\")\n",
        "    ax2.set_ylim([0, max(results[\"RMSE\"]) * 1.2])\n",
        "\n",
        "    # ask matplotlib for the plotted objects and their labels\n",
        "    lines, labels = ax.get_legend_handles_labels()\n",
        "    lines2, labels2 = ax2.get_legend_handles_labels()\n",
        "    ax2.legend(\n",
        "        lines + lines2, labels + labels2, loc=\"center left\", bbox_to_anchor=(1.1, 0.9)\n",
        "    );"
      ]
    },
    {
      "cell_type": "code",
      "execution_count": null,
      "metadata": {
        "colab": {
          "base_uri": "https://localhost:8080/",
          "height": 445
        },
        "id": "QjlMQsn0-RdK",
        "outputId": "a2ebe6fb-9f42-478d-ab6c-8d68bb342647"
      },
      "outputs": [
        {
          "output_type": "display_data",
          "data": {
            "text/plain": [
              "<Figure size 500x500 with 2 Axes>"
            ],
            "image/png": "[encoded data removed]"
          },
          "metadata": {}
        }
      ],
      "source": [
        "model_results = pd.DataFrame(\n",
        "    {\n",
        "        \"Category\": [\"Linear Regression\", \"CNN\"],\n",
        "        \"RMSE\": [baseline_rmse, cnn_rmse],\n",
        "        \"Emissions\": [baseline_emissions * 1000, cnn_emissions * 1000],\n",
        "    }\n",
        ")\n",
        "\n",
        "plot_comparison(model_results)"
      ]
    },
    {
      "cell_type": "markdown",
      "metadata": {
        "id": "yha0o4HrxSpz"
      },
      "source": [
        "### **3.2.4 Tracking Emissions from Model Inference**\n",
        "\n",
        "As noted in our [ChatGPT example](https://colab.research.google.com/drive/1tTok_j2MZtWLuvcr6p_labPOxnCPM9ZL#scrollTo=1_3_1_Case_study_ChatGPT_) above, we must also account for the emissions associated with productionalizing a model. This consideration is situation-specific. Will millions of users predict using our model multiple times a day? Or will we only need to score new data with our model once a month?\n",
        "\n",
        "We can use CodeCarbon again to assess the emissions associated with model inference. Note that we would need to deploy CodeCarbon on the infrastructure that hosts the productionalized model for an accurate assessment of the emissions associated with scoring. We'll measure the emissions associated with inference within the Colab notebook for illustration purposes only."
      ]
    },
    {
      "cell_type": "code",
      "execution_count": null,
      "metadata": {
        "colab": {
          "base_uri": "https://localhost:8080/"
        },
        "id": "19EepYna1Gp4",
        "outputId": "81004f08-f76b-453a-fbd6-d967063f3c61"
      },
      "outputs": [
        {
          "output_type": "stream",
          "name": "stdout",
          "text": [
            "Emissions from this training run: 1.074798278396683e-07 kg CO2eq\n"
          ]
        }
      ],
      "source": [
        "# First we'll measure emissions from scoring with the linear regression model\n",
        "experiment_name = \"linear_regression_inference\"\n",
        "\n",
        "tracker = EmissionsTracker(\n",
        "    output_dir=\"./code_carbon/\",\n",
        "    output_file=f\"{experiment_name}_emissions.csv\",\n",
        "    log_level=\"error\",  # comment out this line to see regular output\n",
        ")\n",
        "tracker.start()\n",
        "\n",
        "predictions_test_lin_reg = regr.predict(X_test)\n",
        "\n",
        "lin_reg_inference_emissions = tracker.stop()\n",
        "print(f\"Emissions from this training run: {lin_reg_inference_emissions} kg CO2eq\")"
      ]
    },
    {
      "cell_type": "code",
      "execution_count": null,
      "metadata": {
        "colab": {
          "base_uri": "https://localhost:8080/"
        },
        "id": "QRlm7AHB77N-",
        "outputId": "42237e13-5e4b-4177-dc12-74f8eeeac270"
      },
      "outputs": [
        {
          "output_type": "stream",
          "name": "stdout",
          "text": [
            "Emissions from this training run: 1.8650008511342655e-07 kg CO2eq\n"
          ]
        }
      ],
      "source": [
        "# Now we measure emissions from scoring with the CNN\n",
        "experiment_name = \"cnn_inference\"\n",
        "\n",
        "tracker = EmissionsTracker(\n",
        "    output_dir=\"./code_carbon/\",\n",
        "    output_file=f\"{experiment_name}_emissions.csv\",\n",
        "    log_level=\"error\",  # comment out this line to see regular output\n",
        ")\n",
        "tracker.start()\n",
        "\n",
        "device = \"cuda:0\" if torch.cuda.is_available() else \"cpu\"\n",
        "predictions_test_cnn = cnn_train_session.net(\n",
        "    torch.Tensor(test_predictors).to(device)\n",
        ").squeeze()\n",
        "\n",
        "cnn_inference_emissions = tracker.stop()\n",
        "print(f\"Emissions from this training run: {cnn_inference_emissions} kg CO2eq\")"
      ]
    },
    {
      "cell_type": "code",
      "execution_count": null,
      "metadata": {
        "colab": {
          "base_uri": "https://localhost:8080/"
        },
        "id": "-nDJcoKU9X6P",
        "outputId": "34007d20-d20a-453d-9e86-e7c491cfb18e"
      },
      "outputs": [
        {
          "output_type": "stream",
          "name": "stdout",
          "text": [
            "The emissions from scoring with a CNN are 1.7 times the emissions from scoring with a linear regression model.\n"
          ]
        }
      ],
      "source": [
        "print(\n",
        "    f\"The emissions from scoring with a CNN are {cnn_inference_emissions/lin_reg_inference_emissions:.1f} times the emissions from scoring with a linear regression model.\"\n",
        ")"
      ]
    },
    {
      "cell_type": "markdown",
      "metadata": {
        "id": "3JZaqn0f9enX"
      },
      "source": [
        "The difference in emissions from inference between the two models is much less dramatic than that from training. One reason for this is that deep learning models train over multiple epochs. Neural networks then typically require three times the energy to train on an observation as compared to inferring on that observation [8].\n",
        "\n",
        "Be sure to measure emissions from scoring data samples of the scale you'd expect once you've deployed your model for the most accurate estimates!"
      ]
    },
    {
      "cell_type": "markdown",
      "metadata": {
        "id": "knR0BrAyGpsg"
      },
      "source": [
        "## **3.3 Hyperparameter Tuning**\n",
        "\n",
        "Hyperparameter tuning refers to the task of adjusting the data that governs the training process itself, such as the number of layers in a neural network. ML practitioners typically tune these hyperparameters to find a combination with an optimal model performance.\n",
        "\n",
        "Let's explore the emissions associated with tuning the hyperparameters of our CNN and experiment with some strategies to make this process more efficient.\n",
        "\n",
        "Note that in the interest of time, we will only explore a small hyperparameter space. However, these strategies are much more effective at reducing emissions when we need to search a large number of possible hyperparameter combinations to optimize model performance."
      ]
    },
    {
      "cell_type": "markdown",
      "metadata": {
        "id": "sXPq3ST28lae"
      },
      "source": [
        "#### **3.2.1 Introducing Optuna**\n",
        "\n",
        "We'll use the [`optuna`](https://optuna.org/) package to tune our hyperparameters. To do so, we need to define an `objective` function such as the one below.\n",
        "\n",
        "The `objective` function takes an input parameter called `trial`, which comes from Optuna's `Trial` class. This object logs a set of selected hyperparameter values and records the value of our objective function (RMSE in our case) from each trial.\n",
        "\n",
        "We also define the search space of each hyperparameter as a dictionary named `params`. For each hyperparameter, we specify the range of the search space with the `suggest_*` methods.\n",
        "\n",
        "- [**suggest_int:**](https://optuna.readthedocs.io/en/stable/reference/generated/optuna.trial.Trial.html#optuna.trial.Trial.suggest_int) Suggests a value for a hyperparameter of type integer.\n",
        "- [**suggest_categorical:**](https://optuna.readthedocs.io/en/stable/reference/generated/optuna.trial.Trial.html#optuna.trial.Trial.suggest_categorical) Suggests a value for a categorical hyperparameter.\n",
        "-[**suggest_float:**](https://optuna.readthedocs.io/en/stable/reference/generated/optuna.trial.Trial.html#optuna.trial.Trial.suggest_float) Suggests a value for a hyperparameter of type float. Note that you can specify a log distribution by setting the parameter `log=True`.\n",
        "\n",
        "For our hyperparameter tuning session, we'll experiment with adjusting the learning rate and the optimizer of our CNN as well as the number of input time steps used to construct our training data.\n",
        "\n",
        "> _Quick note:_ Remember that the parameter `num_input_time_steps` refers to the number of time steps for each predictor. For example, if num_input_time_steps is set to 3, then the machine learning model will take 3 months as its input. In other words, a sample predictor will be 3 months of average temperature: Jan average temperature, Feb average temperature, and March average temperature (i.e. an array of (3, lat, lon)). The predictand will be the Niño3.4 index lead_time months after March.\n",
        ">\n",
        "> Previously, we had trained our CNN using a `num_input_time_steps` value of 1."
      ]
    },
    {
      "cell_type": "code",
      "execution_count": null,
      "metadata": {
        "id": "5MXzDYQoKCsF"
      },
      "outputs": [],
      "source": [
        "def objective(trial):\n",
        "    \"\"\"\n",
        "    Defines the objective function.\n",
        "\n",
        "    Parameters:\n",
        "      trial (optuna.Trial): Provides interfaces to Optuna's functionality\n",
        "\n",
        "    Returns:\n",
        "      (int): RMSE of current trial\n",
        "    \"\"\"\n",
        "    # Define the hyperparameter search space\n",
        "    params = {\n",
        "        \"num_input_time_steps\": trial.suggest_int(\"num_input_time_steps\", 1, 3),\n",
        "        \"learning_rate\": trial.suggest_float(\"learning_rate\", 1e-4, 1e-2, log=True),\n",
        "        \"optimizer\": trial.suggest_categorical(\"optimizer\", [\"Adam\", \"SGD\"]),\n",
        "    }\n",
        "\n",
        "    # Instantiate the model\n",
        "    net = CNN(num_input_time_steps=params[\"num_input_time_steps\"])\n",
        "\n",
        "    # Create new train and test sets based on the selected num_input_time_steps parameter\n",
        "    train_predictors, train_predictands = assemble_predictors_predictands(\n",
        "        start_date=train_start_date,\n",
        "        end_date=train_end_date,\n",
        "        lead_time=1,\n",
        "        num_input_time_steps=params[\"num_input_time_steps\"],\n",
        "    )\n",
        "    test_predictors, test_predictands = assemble_predictors_predictands(\n",
        "        start_date=\"2007-01-01\",\n",
        "        end_date=\"2017-12-31\",\n",
        "        lead_time=1,\n",
        "        num_input_time_steps=params[\"num_input_time_steps\"],\n",
        "    )\n",
        "\n",
        "    train_dataset = ENSODataset(train_predictors, train_predictands)\n",
        "    test_dataset = ENSODataset(test_predictors, test_predictands)\n",
        "\n",
        "    trainloader = DataLoader(train_dataset, batch_size=10)\n",
        "    testloader = DataLoader(test_dataset, batch_size=10)\n",
        "\n",
        "    # Specify criterion and optimizer\n",
        "    criterion = torch.nn.MSELoss()\n",
        "    optimizer = getattr(optim, params[\"optimizer\"])(\n",
        "        net.parameters(), lr=params[\"learning_rate\"]\n",
        "    )\n",
        "\n",
        "    # Train a CNN using the specified hyperparameters and calculate RMSE\n",
        "    cnn_train_session = TrainCNN(trainloader, testloader, net, criterion, optimizer)\n",
        "    cnn_train_session.train_network(verbose=False)\n",
        "    predictions = cnn_train_session.evaluate_best_model()\n",
        "    rmse = mean_squared_error(test_predictands, predictions, squared=False)\n",
        "    return rmse"
      ]
    },
    {
      "cell_type": "markdown",
      "metadata": {
        "id": "GjHmj7fMyMXQ"
      },
      "source": [
        "#### **3.3.2 TPE Search**\n",
        "\n",
        "You might already be familiar with tuning hyperparameters via grid search in which we try every combination of hyperparameters within the space. Grid search is inherently inefficient and should be avoided in favor of more intelligent search algorithms.\n",
        "\n",
        "One such algorithm is the Tree-structured Parzen Estimator (TPE) algorithm, which is the default hyperparameter sampling method in Optuna. On each trial for each hyperparameter, TPE fits a Gaussian Mixture Model (GMM) $l(x)$ to the hyperparameter sets that return the smallest values for the objective function.\n",
        "\n",
        "> _Quick note:_ A Gaussian mixture model is a probabilistic model that represents normally distributed subpopulations (in this case, our hyperparameters) within an overall population. Please see this [short introduction](https://brilliant.org/wiki/gaussian-mixture-model/) for a deeper explanation.\n",
        "\n",
        "TPE fits another GMM $g(x)$ to the remaining hyperparameter values. The hyperparameter value $x$ that maximizes the ratio $l(x)/g(x)$ would then be evaluated using the objective function. I recommend this [blog post](https://towardsdatascience.com/a-conceptual-explanation-of-bayesian-model-based-hyperparameter-optimization-for-machine-learning-b8172278050f#) for more information about Bayesian-based hyperparameter tuning strategies.\n",
        "\n",
        "TPE will run for as many trials as we specify. Let's limit ourselves to 12 trials to ensure we're not waiting too long for a result."
      ]
    },
    {
      "cell_type": "code",
      "execution_count": null,
      "metadata": {
        "id": "mox5pvzw1Jus"
      },
      "outputs": [],
      "source": [
        "experiment_name = \"tpe_search\"\n",
        "\n",
        "tracker = EmissionsTracker(\n",
        "    output_dir=\"./code_carbon/\",\n",
        "    output_file=f\"{experiment_name}_emissions.csv\",\n",
        "    log_level=\"error\",  # comment out this line to see regular output\n",
        ")\n",
        "tracker.start()"
      ]
    },
    {
      "cell_type": "markdown",
      "metadata": {
        "id": "MKOuRS5pAIa1"
      },
      "source": [
        "The TPE algorithm cannot operate on a \"cold start\"&mdash;in other words, TPE needs the results of some \"startup\" trials to fit the GMM $l(x)$. We set the parameter `n_startup_trials` to specify the number of trials that will initially leverage random sampling instead of TPE. The default value for this parameter is 10 but since we're only searching over 12 trials in total, we'll reduce this number to a lower value. Let's try 5.\n",
        "\n",
        "⭐ **CHALLENGE:** Experiment with adjusting the parameter `n_startup_trials`. How does it affect the RMSE from the best trial of the study?"
      ]
    },
    {
      "cell_type": "code",
      "execution_count": null,
      "metadata": {
        "colab": {
          "base_uri": "https://localhost:8080/",
          "height": 329,
          "referenced_widgets": [
            "73f4f105a91a4fafbae59391ebd0fb65",
            "510551aea3084555b4c3982528cce9b8",
            "b395e09ac1084567ac824ea50517cef9",
            "7ed85909f48045dbbadbc804c9464c82",
            "400faafaa2e148718bc98268be1ca6c2",
            "db109a8c2e00496695aba33d2d82ee1b",
            "8388bad8267c459c861ec6fbeef7057f",
            "9a771cf17912472c870f33705b9539e0",
            "bcbccc61d20b42e0910abddbb8ed8c59",
            "1501e6948fa4445d9c8adc5b3f709e72",
            "fbf9681dc0704297a5f832f610adb311"
          ]
        },
        "id": "6uaU8g6avEH0",
        "outputId": "58c78f42-5098-49a3-9098-c2999eece557"
      },
      "outputs": [
        {
          "output_type": "stream",
          "name": "stderr",
          "text": [
            "\u001b[32m[I 2023-04-18 14:02:59,082]\u001b[0m A new study created in memory with name: no-name-63b1fd40-2f7b-4087-aa2c-a86f7c1af1fc\u001b[0m\n",
            "/usr/local/lib/python3.9/dist-packages/optuna/progress_bar.py:56: ExperimentalWarning: Progress bar is experimental (supported from v1.2.0). The interface can change in the future.\n",
            "  self._init_valid()\n"
          ]
        },
        {
          "output_type": "display_data",
          "data": {
            "text/plain": [
              "  0%|          | 0/12 [00:00<?, ?it/s]"
            ],
            "application/vnd.jupyter.widget-view+json": {
              "version_major": 2,
              "version_minor": 0,
              "model_id": "73f4f105a91a4fafbae59391ebd0fb65"
            }
          },
          "metadata": {}
        },
        {
          "output_type": "stream",
          "name": "stdout",
          "text": [
            "\u001b[32m[I 2023-04-18 14:03:24,633]\u001b[0m Trial 0 finished with value: 0.36426272781012387 and parameters: {'num_input_time_steps': 2, 'learning_rate': 0.0026938830192854116, 'optimizer': 'Adam'}. Best is trial 0 with value: 0.36426272781012387.\u001b[0m\n",
            "\u001b[32m[I 2023-04-18 14:03:45,514]\u001b[0m Trial 1 finished with value: 0.2839215513366501 and parameters: {'num_input_time_steps': 2, 'learning_rate': 0.0019578897201213002, 'optimizer': 'SGD'}. Best is trial 1 with value: 0.2839215513366501.\u001b[0m\n",
            "\u001b[32m[I 2023-04-18 14:04:13,282]\u001b[0m Trial 2 finished with value: 0.31790962089293673 and parameters: {'num_input_time_steps': 3, 'learning_rate': 0.0005846326121643416, 'optimizer': 'Adam'}. Best is trial 1 with value: 0.2839215513366501.\u001b[0m\n",
            "\u001b[32m[I 2023-04-18 14:04:33,861]\u001b[0m Trial 3 finished with value: 0.30769743787810766 and parameters: {'num_input_time_steps': 2, 'learning_rate': 0.007098936257405904, 'optimizer': 'SGD'}. Best is trial 1 with value: 0.2839215513366501.\u001b[0m\n",
            "\u001b[32m[I 2023-04-18 14:04:51,815]\u001b[0m Trial 4 finished with value: 0.26384994459605826 and parameters: {'num_input_time_steps': 1, 'learning_rate': 0.0046263628414755864, 'optimizer': 'SGD'}. Best is trial 4 with value: 0.26384994459605826.\u001b[0m\n",
            "\u001b[32m[I 2023-04-18 14:05:11,342]\u001b[0m Trial 5 finished with value: 0.3774224359766639 and parameters: {'num_input_time_steps': 1, 'learning_rate': 0.0001895689667719594, 'optimizer': 'SGD'}. Best is trial 4 with value: 0.26384994459605826.\u001b[0m\n",
            "\u001b[32m[I 2023-04-18 14:05:28,992]\u001b[0m Trial 6 finished with value: 0.25027443607875655 and parameters: {'num_input_time_steps': 1, 'learning_rate': 0.008573519729186104, 'optimizer': 'SGD'}. Best is trial 6 with value: 0.25027443607875655.\u001b[0m\n",
            "\u001b[32m[I 2023-04-18 14:05:46,535]\u001b[0m Trial 7 finished with value: 0.2595924550209894 and parameters: {'num_input_time_steps': 1, 'learning_rate': 0.008761933655144947, 'optimizer': 'SGD'}. Best is trial 6 with value: 0.25027443607875655.\u001b[0m\n",
            "\u001b[32m[I 2023-04-18 14:06:15,049]\u001b[0m Trial 8 finished with value: 0.38427043407099654 and parameters: {'num_input_time_steps': 3, 'learning_rate': 0.0010404102976536128, 'optimizer': 'Adam'}. Best is trial 6 with value: 0.25027443607875655.\u001b[0m\n",
            "\u001b[32m[I 2023-04-18 14:06:32,639]\u001b[0m Trial 9 finished with value: 0.25156572141705186 and parameters: {'num_input_time_steps': 1, 'learning_rate': 0.009049911227773816, 'optimizer': 'SGD'}. Best is trial 6 with value: 0.25027443607875655.\u001b[0m\n",
            "\u001b[32m[I 2023-04-18 14:06:54,231]\u001b[0m Trial 10 finished with value: 0.4049129774059246 and parameters: {'num_input_time_steps': 1, 'learning_rate': 0.003448362630391615, 'optimizer': 'Adam'}. Best is trial 6 with value: 0.25027443607875655.\u001b[0m\n",
            "\u001b[32m[I 2023-04-18 14:07:11,739]\u001b[0m Trial 11 finished with value: 0.25061581240034386 and parameters: {'num_input_time_steps': 1, 'learning_rate': 0.009305841797753199, 'optimizer': 'SGD'}. Best is trial 6 with value: 0.25027443607875655.\u001b[0m\n"
          ]
        }
      ],
      "source": [
        "tpe_search_study = optuna.create_study(\n",
        "    direction=\"minimize\", sampler=optuna.samplers.TPESampler(n_startup_trials=5, seed=0)\n",
        ")\n",
        "tpe_search_study.optimize(objective, n_trials=12, show_progress_bar=True)"
      ]
    },
    {
      "cell_type": "code",
      "execution_count": null,
      "metadata": {
        "colab": {
          "base_uri": "https://localhost:8080/"
        },
        "id": "DdFeNHtvNW7T",
        "outputId": "697be5da-fbce-4160-a268-eb0484a380f5"
      },
      "outputs": [
        {
          "output_type": "stream",
          "name": "stdout",
          "text": [
            "Optimal set of hyperparameters: {'num_input_time_steps': 1, 'learning_rate': 0.008573519729186104, 'optimizer': 'SGD'}\n",
            "RMSE from optimal set of hyperparameters: 0.25027\n",
            "\n",
            "Hyperparameter tuning from TPE search reduced model error by 14.6%\n"
          ]
        }
      ],
      "source": [
        "print(\"Optimal set of hyperparameters:\", tpe_search_study.best_params)\n",
        "print(f\"RMSE from optimal set of hyperparameters: {tpe_search_study.best_value:.5f}\")\n",
        "print(\"\")\n",
        "print(\n",
        "    f\"Hyperparameter tuning from TPE search reduced model error by {abs(1 - tpe_search_study.best_value/cnn_rmse):.1%}\"\n",
        ")"
      ]
    },
    {
      "cell_type": "markdown",
      "metadata": {
        "id": "BgzPxuf7wKe5"
      },
      "source": [
        "We can see that hyperparameter tuning reduced our model's error by a decent amount. Let's tally up the emissions cost from this exercise."
      ]
    },
    {
      "cell_type": "code",
      "execution_count": null,
      "metadata": {
        "colab": {
          "base_uri": "https://localhost:8080/"
        },
        "id": "lD8SxF76vEKK",
        "outputId": "e1e604fa-0dae-4399-bb25-faa3b01901ca"
      },
      "outputs": [
        {
          "output_type": "stream",
          "name": "stdout",
          "text": [
            "Emissions from this training run: 0.00361 kg CO2eq\n"
          ]
        }
      ],
      "source": [
        "tpe_search_emissions = tracker.stop()\n",
        "print(f\"Emissions from this training run: {tpe_search_emissions:.5f} kg CO2eq\")"
      ]
    },
    {
      "cell_type": "markdown",
      "metadata": {
        "id": "tQjBWACSvpHa"
      },
      "source": [
        "Finally, we'll take a quick look at the fit from a CNN trained with this optimal set of hyperparameters."
      ]
    },
    {
      "cell_type": "code",
      "execution_count": null,
      "metadata": {
        "id": "mYb_dIsq5unb"
      },
      "outputs": [],
      "source": [
        "def train_model_with_best_parameters(params):\n",
        "    \"\"\"\n",
        "    Trains a CNN a given set of hyperparameters.\n",
        "\n",
        "    Parameters:\n",
        "      params (dict): Dictionary containing hyperparameter names and values\n",
        "\n",
        "    Returns:\n",
        "      (np.array, np.array): Tuple of predictions and test predictands\n",
        "    \"\"\"\n",
        "    net = CNN(num_input_time_steps=params[\"num_input_time_steps\"])\n",
        "\n",
        "    train_predictors, train_predictands = assemble_predictors_predictands(\n",
        "        start_date=train_start_date,\n",
        "        end_date=train_end_date,\n",
        "        lead_time=2,\n",
        "        num_input_time_steps=params[\"num_input_time_steps\"],\n",
        "    )\n",
        "    test_predictors, test_predictands = assemble_predictors_predictands(\n",
        "        start_date=\"2007-01-01\",\n",
        "        end_date=\"2017-12-31\",\n",
        "        lead_time=2,\n",
        "        num_input_time_steps=params[\"num_input_time_steps\"],\n",
        "    )\n",
        "\n",
        "    train_dataset = ENSODataset(train_predictors, train_predictands)\n",
        "    test_dataset = ENSODataset(test_predictors, test_predictands)\n",
        "\n",
        "    trainloader = DataLoader(train_dataset, batch_size=10)\n",
        "    testloader = DataLoader(test_dataset, batch_size=10)\n",
        "\n",
        "    # Specify criterion and optimizer\n",
        "    criterion = torch.nn.MSELoss()\n",
        "    optimizer = getattr(optim, params[\"optimizer\"])(\n",
        "        net.parameters(), lr=params[\"learning_rate\"]\n",
        "    )\n",
        "\n",
        "    cnn_train_session = TrainCNN(trainloader, testloader, net, criterion, optimizer)\n",
        "    cnn_train_session.train_network(verbose=False)\n",
        "    predictions = cnn_train_session.evaluate_best_model()\n",
        "    return predictions, test_predictands"
      ]
    },
    {
      "cell_type": "code",
      "execution_count": null,
      "metadata": {
        "colab": {
          "base_uri": "https://localhost:8080/",
          "height": 493
        },
        "id": "GEQIY-C15jQ6",
        "outputId": "f76538b7-e1db-4047-877a-dc01e1b5a727"
      },
      "outputs": [
        {
          "output_type": "display_data",
          "data": {
            "text/plain": [
              "<Figure size 640x480 with 1 Axes>"
            ],
            "image/png": "[encoded data removed]"
          },
          "metadata": {}
        }
      ],
      "source": [
        "predictions, test_predictands = train_model_with_best_parameters(\n",
        "    tpe_search_study.best_params\n",
        ")\n",
        "corr, _ = scipy.stats.pearsonr(predictions, test_predictands)\n",
        "\n",
        "plot_nino_time_series(\n",
        "    test_predictands,\n",
        "    predictions,\n",
        "    \"Predicted and True Nino3.4 Indices on Training Set at 1 Month Lead Time. \\n Corr: {:.2f}\".format(\n",
        "        corr\n",
        "    ),\n",
        ")"
      ]
    },
    {
      "cell_type": "markdown",
      "metadata": {
        "id": "TN_YH3SqdLJW"
      },
      "source": [
        "#### **3.3.3 With Hyperparameter Pruning**\n",
        "\n",
        "We might wish to stop training a CNN on a certain set of hyperparameters if the intermediate objective values don't look promising. For example, we might train our CNN on certain hyperparameters and notice that the RMSE by epoch 23 is quite poor. In that case, we should terminate this trial and move on to another set of hyperparameters. This is called \"hyperparameter pruning\".\n",
        "\n",
        "To implement hyperparameter pruning, we'll need to adjust our CNN training code. Below I've added lines 36-41 to the function `train_network`. This new code calculates the RMSE at each epoch and calls the Optuna trial to determine whether to prune based on our specified pruning strategy (more on pruning strategies below).\n",
        "\n",
        "\n"
      ]
    },
    {
      "cell_type": "code",
      "execution_count": null,
      "metadata": {
        "id": "1rqfyX5yuzbO"
      },
      "outputs": [],
      "source": [
        "class TrainCNNOptuna(TrainCNN):\n",
        "    def __init__(self, trainloader, testloader, net, criterion, optimizer):\n",
        "        super().__init__(trainloader, testloader, net, criterion, optimizer)\n",
        "\n",
        "    def train_network(self, trial, num_epochs=40, verbose=True):\n",
        "        \"\"\"\n",
        "        Trains a neural network for a specified number of epochs with an\n",
        "        ability to prune via Optuna.\n",
        "\n",
        "        Parameters:\n",
        "          trial (optuna.Trial): Provides interfaces to Optuna's functionality\n",
        "          num_epochs (int): Number of epochs for which to train the network\n",
        "          verbose (bool): Whether or not to print the current train and test loss\n",
        "\n",
        "        Returns:\n",
        "          None\n",
        "        \"\"\"\n",
        "        net = self.net.to(self.device)\n",
        "\n",
        "        for epoch in range(num_epochs):\n",
        "            self._train()\n",
        "            self._evaluate_epoch()\n",
        "            if verbose:\n",
        "                print(\n",
        "                    \"train Set: Epoch {:02d}. loss: {:3f}\".format(\n",
        "                        epoch + 1, self.train_losses[-1]\n",
        "                    )\n",
        "                )\n",
        "                print(\n",
        "                    \"test Set: Epoch {:02d}. loss: {:3f}\".format(\n",
        "                        epoch + 1, self.test_losses[-1]\n",
        "                    )\n",
        "                )\n",
        "\n",
        "            # Determine if trial should be pruned\n",
        "            predictions = self.evaluate_best_model()\n",
        "            test_predictands = self.testloader.dataset.predictands\n",
        "            rmse = mean_squared_error(test_predictands, predictions, squared=False)\n",
        "            trial.report(rmse, epoch)\n",
        "            if trial.should_prune():\n",
        "                raise optuna.exceptions.TrialPruned()\n",
        "\n",
        "        self.net = torch.load(\"current_best_cnn.pt\")\n",
        "        self.net.eval()\n",
        "        self.net.to(self.device)"
      ]
    },
    {
      "cell_type": "markdown",
      "metadata": {
        "id": "XVT4UnykDmFd"
      },
      "source": [
        "We also need to adjust our objective function to call this new training code."
      ]
    },
    {
      "cell_type": "code",
      "execution_count": null,
      "metadata": {
        "id": "E0tSZnGqy5YM"
      },
      "outputs": [],
      "source": [
        "def objective_with_pruning(trial):\n",
        "    \"\"\"\n",
        "    Defines the objective function to allow for pruning.\n",
        "\n",
        "    Parameters:\n",
        "      trial (optuna.Trial): Provides interfaces to Optuna's functionality\n",
        "\n",
        "    Returns:\n",
        "      (int): RMSE of current trial\n",
        "    \"\"\"\n",
        "    params = {\n",
        "        \"num_input_time_steps\": trial.suggest_int(\"num_input_time_steps\", 1, 3),\n",
        "        \"learning_rate\": trial.suggest_float(\"learning_rate\", 1e-4, 1e-2, log=True),\n",
        "        \"optimizer\": trial.suggest_categorical(\"optimizer\", [\"Adam\", \"SGD\"]),\n",
        "    }\n",
        "\n",
        "    net = CNN(num_input_time_steps=params[\"num_input_time_steps\"])\n",
        "\n",
        "    train_predictors, train_predictands = assemble_predictors_predictands(\n",
        "        start_date=train_start_date,\n",
        "        end_date=train_end_date,\n",
        "        lead_time=1,\n",
        "        num_input_time_steps=params[\"num_input_time_steps\"],\n",
        "    )\n",
        "    test_predictors, test_predictands = assemble_predictors_predictands(\n",
        "        start_date=\"2007-01-01\",\n",
        "        end_date=\"2017-12-31\",\n",
        "        lead_time=1,\n",
        "        num_input_time_steps=params[\"num_input_time_steps\"],\n",
        "    )\n",
        "\n",
        "    train_dataset = ENSODataset(train_predictors, train_predictands)\n",
        "    test_dataset = ENSODataset(test_predictors, test_predictands)\n",
        "\n",
        "    trainloader = DataLoader(train_dataset, batch_size=10)\n",
        "    testloader = DataLoader(test_dataset, batch_size=10)\n",
        "\n",
        "    # Specify criterion and optimizer\n",
        "    criterion = torch.nn.MSELoss()\n",
        "    optimizer = getattr(optim, params[\"optimizer\"])(\n",
        "        net.parameters(), lr=params[\"learning_rate\"]\n",
        "    )\n",
        "\n",
        "    cnn_train_session = TrainCNNOptuna(\n",
        "        trainloader, testloader, net, criterion, optimizer\n",
        "    )\n",
        "    cnn_train_session.train_network(trial, verbose=False)\n",
        "    predictions = cnn_train_session.evaluate_best_model()\n",
        "    rmse = mean_squared_error(test_predictands, predictions, squared=False)\n",
        "    return rmse"
      ]
    },
    {
      "cell_type": "markdown",
      "metadata": {
        "id": "F52CHujTDswq"
      },
      "source": [
        "Optuna offers several different hyperparameter pruning strategies.\n",
        "\n",
        "- `ThresholdPruner`: Prunes a trial if the intermediate value (in our case, RMSE) is worse than a specified threshold at the same training epoch.\n",
        "- `MedianPruner`: Prunes a trial if the intermediate value of the current trial is worse than the median of intermediate values from previous trials at the same training epoch.\n",
        "- `PercentilePruner`: Prunes a trial if the intermediate value of the current trial is in the bottom percentile of trials at the same training epoch.\n",
        "- `SuccessiveHalvingPruner`: Pruning strategy based on the [Successive Halving Algorithm (SHA)](https://blog.ml.cmu.edu/2018/12/12/massively-parallel-hyperparameter-optimization/). At a high level, the algorithm allocates more epochs to promising trials by by pruning half of the total trials.\n",
        "\n",
        "Let's experiment with the `PercentilePruner`. We'll ask Optuna to prune when the RMSE falls below the bottom 10th percentile of previous trials."
      ]
    },
    {
      "cell_type": "code",
      "execution_count": null,
      "metadata": {
        "id": "sx5a4bCNvEMf"
      },
      "outputs": [],
      "source": [
        "experiment_name = \"tpe_search_percentile_pruned\"\n",
        "\n",
        "tracker = EmissionsTracker(\n",
        "    output_dir=\"./code_carbon/\",\n",
        "    output_file=f\"{experiment_name}_emissions.csv\",\n",
        "    log_level=\"error\",  # comment out this line to see regular output\n",
        ")\n",
        "tracker.start()"
      ]
    },
    {
      "cell_type": "code",
      "execution_count": null,
      "metadata": {
        "colab": {
          "base_uri": "https://localhost:8080/",
          "height": 329,
          "referenced_widgets": [
            "bb530fd1cab94a45afdb174945b8c47e",
            "e8b772087f3a48c3be97c555dc1fca85",
            "0e06f4d494b34e89ab7587f1291039e7",
            "dd341850a65f4dbe95b0bba7726ddd14",
            "170f40d037e34544b6ffa1cb4b75153b",
            "2da303b2be4d410595a6672288b836de",
            "34d068f48aa841c5bb7c9f52ef46ddaf",
            "e7069f4a57dd4530895fbd4cacd3582b",
            "7181ba6369774af4a6456c166f38fdb8",
            "e021a0e85c5b4fffa4e53d5a94747691",
            "b0cf2b274bb74ac5ae3195c0e9c69aa4"
          ]
        },
        "id": "k8eh8foZdUVH",
        "outputId": "460ad49b-bc31-4326-eef2-28a058ad28b1"
      },
      "outputs": [
        {
          "output_type": "stream",
          "name": "stderr",
          "text": [
            "\u001b[32m[I 2023-04-18 14:07:31,464]\u001b[0m A new study created in memory with name: no-name-f589afe0-e33f-47db-8a51-1319064ac323\u001b[0m\n",
            "/usr/local/lib/python3.9/dist-packages/optuna/progress_bar.py:56: ExperimentalWarning: Progress bar is experimental (supported from v1.2.0). The interface can change in the future.\n",
            "  self._init_valid()\n"
          ]
        },
        {
          "output_type": "display_data",
          "data": {
            "text/plain": [
              "  0%|          | 0/12 [00:00<?, ?it/s]"
            ],
            "application/vnd.jupyter.widget-view+json": {
              "version_major": 2,
              "version_minor": 0,
              "model_id": "bb530fd1cab94a45afdb174945b8c47e"
            }
          },
          "metadata": {}
        },
        {
          "output_type": "stream",
          "name": "stdout",
          "text": [
            "\u001b[32m[I 2023-04-18 14:07:58,988]\u001b[0m Trial 0 finished with value: 0.5052099326441267 and parameters: {'num_input_time_steps': 2, 'learning_rate': 0.0026938830192854116, 'optimizer': 'Adam'}. Best is trial 0 with value: 0.5052099326441267.\u001b[0m\n",
            "\u001b[32m[I 2023-04-18 14:08:23,097]\u001b[0m Trial 1 finished with value: 0.45308531146479447 and parameters: {'num_input_time_steps': 2, 'learning_rate': 0.0019578897201213002, 'optimizer': 'SGD'}. Best is trial 1 with value: 0.45308531146479447.\u001b[0m\n",
            "\u001b[32m[I 2023-04-18 14:08:53,585]\u001b[0m Trial 2 finished with value: 0.2978675634161205 and parameters: {'num_input_time_steps': 3, 'learning_rate': 0.0005846326121643416, 'optimizer': 'Adam'}. Best is trial 2 with value: 0.2978675634161205.\u001b[0m\n",
            "\u001b[32m[I 2023-04-18 14:09:16,530]\u001b[0m Trial 3 finished with value: 0.2532025348653743 and parameters: {'num_input_time_steps': 2, 'learning_rate': 0.007098936257405904, 'optimizer': 'SGD'}. Best is trial 3 with value: 0.2532025348653743.\u001b[0m\n",
            "\u001b[32m[I 2023-04-18 14:09:35,878]\u001b[0m Trial 4 finished with value: 0.3975199499403062 and parameters: {'num_input_time_steps': 1, 'learning_rate': 0.0046263628414755864, 'optimizer': 'SGD'}. Best is trial 3 with value: 0.2532025348653743.\u001b[0m\n",
            "\u001b[32m[I 2023-04-18 14:09:36,933]\u001b[0m Trial 5 pruned. \u001b[0m\n",
            "\u001b[32m[I 2023-04-18 14:09:38,790]\u001b[0m Trial 6 pruned. \u001b[0m\n",
            "\u001b[32m[I 2023-04-18 14:09:40,725]\u001b[0m Trial 7 pruned. \u001b[0m\n",
            "\u001b[32m[I 2023-04-18 14:09:42,113]\u001b[0m Trial 8 pruned. \u001b[0m\n",
            "\u001b[32m[I 2023-04-18 14:09:43,717]\u001b[0m Trial 9 pruned. \u001b[0m\n",
            "\u001b[32m[I 2023-04-18 14:09:45,833]\u001b[0m Trial 10 pruned. \u001b[0m\n",
            "\u001b[32m[I 2023-04-18 14:09:51,282]\u001b[0m Trial 11 pruned. \u001b[0m\n"
          ]
        }
      ],
      "source": [
        "tpe_search_10perc_pruned_study = optuna.create_study(\n",
        "    direction=\"minimize\",\n",
        "    sampler=optuna.samplers.TPESampler(n_startup_trials=5, seed=0),\n",
        "    pruner=optuna.pruners.PercentilePruner(percentile=10),\n",
        ")\n",
        "tpe_search_10perc_pruned_study.optimize(\n",
        "    objective_with_pruning, n_trials=12, show_progress_bar=True\n",
        ")"
      ]
    },
    {
      "cell_type": "code",
      "execution_count": null,
      "metadata": {
        "colab": {
          "base_uri": "https://localhost:8080/"
        },
        "id": "mR207vv3vEV8",
        "outputId": "741fa451-b9d4-4e81-eedb-c07db5cd1851"
      },
      "outputs": [
        {
          "output_type": "stream",
          "name": "stdout",
          "text": [
            "Emissions from this training run: 0.00192 kg CO2eq\n"
          ]
        }
      ],
      "source": [
        "tpe_search_percentile_pruned_emissions = tracker.stop()\n",
        "print(\n",
        "    f\"Emissions from this training run: {tpe_search_percentile_pruned_emissions:.5f} kg CO2eq\"\n",
        ")"
      ]
    },
    {
      "cell_type": "markdown",
      "metadata": {
        "id": "egYd4kO2GBgc"
      },
      "source": [
        "Optuna ended up pruning half our total trials! Let's see if this strategy found a comparable hyperparameter set to our previous tuning study in which we never pruned."
      ]
    },
    {
      "cell_type": "code",
      "execution_count": null,
      "metadata": {
        "colab": {
          "base_uri": "https://localhost:8080/",
          "height": 143
        },
        "id": "Z59R0I7SvEST",
        "outputId": "318bad0b-4ad4-4060-e00c-9fe451e69523"
      },
      "outputs": [
        {
          "output_type": "execute_result",
          "data": {
            "text/plain": [
              "            num_input_time_steps  learning_rate optimizer      RMSE\n",
              "strategy                                                           \n",
              "Not pruned                     1       0.008574       SGD  0.250274\n",
              "Pruned                         2       0.007099       SGD  0.253203"
            ],
            "text/html": [
              "\n",
              "  <div id=\"df-63179523-05e6-4fe2-ac7f-2f7acd9da9ee\">\n",
              "    <div class=\"colab-df-container\">\n",
              "      <div>\n",
              "<style scoped>\n",
              "    .dataframe tbody tr th:only-of-type {\n",
              "        vertical-align: middle;\n",
              "    }\n",
              "\n",
              "    .dataframe tbody tr th {\n",
              "        vertical-align: top;\n",
              "    }\n",
              "\n",
              "    .dataframe thead th {\n",
              "        text-align: right;\n",
              "    }\n",
              "</style>\n",
              "<table border=\"1\" class=\"dataframe\">\n",
              "  <thead>\n",
              "    <tr style=\"text-align: right;\">\n",
              "      <th></th>\n",
              "      <th>num_input_time_steps</th>\n",
              "      <th>learning_rate</th>\n",
              "      <th>optimizer</th>\n",
              "      <th>RMSE</th>\n",
              "    </tr>\n",
              "    <tr>\n",
              "      <th>strategy</th>\n",
              "      <th></th>\n",
              "      <th></th>\n",
              "      <th></th>\n",
              "      <th></th>\n",
              "    </tr>\n",
              "  </thead>\n",
              "  <tbody>\n",
              "    <tr>\n",
              "      <th>Not pruned</th>\n",
              "      <td>1</td>\n",
              "      <td>0.008574</td>\n",
              "      <td>SGD</td>\n",
              "      <td>0.250274</td>\n",
              "    </tr>\n",
              "    <tr>\n",
              "      <th>Pruned</th>\n",
              "      <td>2</td>\n",
              "      <td>0.007099</td>\n",
              "      <td>SGD</td>\n",
              "      <td>0.253203</td>\n",
              "    </tr>\n",
              "  </tbody>\n",
              "</table>\n",
              "</div>\n",
              "      <button class=\"colab-df-convert\" onclick=\"convertToInteractive('df-63179523-05e6-4fe2-ac7f-2f7acd9da9ee')\"\n",
              "              title=\"Convert this dataframe to an interactive table.\"\n",
              "              style=\"display:none;\">\n",
              "        \n",
              "  <svg xmlns=\"http://www.w3.org/2000/svg\" height=\"24px\"viewBox=\"0 0 24 24\"\n",
              "       width=\"24px\">\n",
              "    <path d=\"M0 0h24v24H0V0z\" fill=\"none\"/>\n",
              "    <path d=\"M18.56 5.44l.94 2.06.94-2.06 2.06-.94-2.06-.94-.94-2.06-.94 2.06-2.06.94zm-11 1L8.5 8.5l.94-2.06 2.06-.94-2.06-.94L8.5 2.5l-.94 2.06-2.06.94zm10 10l.94 2.06.94-2.06 2.06-.94-2.06-.94-.94-2.06-.94 2.06-2.06.94z\"/><path d=\"M17.41 7.96l-1.37-1.37c-.4-.4-.92-.59-1.43-.59-.52 0-1.04.2-1.43.59L10.3 9.45l-7.72 7.72c-.78.78-.78 2.05 0 2.83L4 21.41c.39.39.9.59 1.41.59.51 0 1.02-.2 1.41-.59l7.78-7.78 2.81-2.81c.8-.78.8-2.07 0-2.86zM5.41 20L4 18.59l7.72-7.72 1.47 1.35L5.41 20z\"/>\n",
              "  </svg>\n",
              "      </button>\n",
              "      \n",
              "  <style>\n",
              "    .colab-df-container {\n",
              "      display:flex;\n",
              "      flex-wrap:wrap;\n",
              "      gap: 12px;\n",
              "    }\n",
              "\n",
              "    .colab-df-convert {\n",
              "      background-color: #E8F0FE;\n",
              "      border: none;\n",
              "      border-radius: 50%;\n",
              "      cursor: pointer;\n",
              "      display: none;\n",
              "      fill: #1967D2;\n",
              "      height: 32px;\n",
              "      padding: 0 0 0 0;\n",
              "      width: 32px;\n",
              "    }\n",
              "\n",
              "    .colab-df-convert:hover {\n",
              "      background-color: #E2EBFA;\n",
              "      box-shadow: 0px 1px 2px rgba(60, 64, 67, 0.3), 0px 1px 3px 1px rgba(60, 64, 67, 0.15);\n",
              "      fill: #174EA6;\n",
              "    }\n",
              "\n",
              "    [theme=dark] .colab-df-convert {\n",
              "      background-color: #3B4455;\n",
              "      fill: #D2E3FC;\n",
              "    }\n",
              "\n",
              "    [theme=dark] .colab-df-convert:hover {\n",
              "      background-color: #434B5C;\n",
              "      box-shadow: 0px 1px 3px 1px rgba(0, 0, 0, 0.15);\n",
              "      filter: drop-shadow(0px 1px 2px rgba(0, 0, 0, 0.3));\n",
              "      fill: #FFFFFF;\n",
              "    }\n",
              "  </style>\n",
              "\n",
              "      <script>\n",
              "        const buttonEl =\n",
              "          document.querySelector('#df-63179523-05e6-4fe2-ac7f-2f7acd9da9ee button.colab-df-convert');\n",
              "        buttonEl.style.display =\n",
              "          google.colab.kernel.accessAllowed ? 'block' : 'none';\n",
              "\n",
              "        async function convertToInteractive(key) {\n",
              "          const element = document.querySelector('#df-63179523-05e6-4fe2-ac7f-2f7acd9da9ee');\n",
              "          const dataTable =\n",
              "            await google.colab.kernel.invokeFunction('convertToInteractive',\n",
              "                                                     [key], {});\n",
              "          if (!dataTable) return;\n",
              "\n",
              "          const docLinkHtml = 'Like what you see? Visit the ' +\n",
              "            '<a target=\"_blank\" href=https://colab.research.google.com/notebooks/data_table.ipynb>data table notebook</a>'\n",
              "            + ' to learn more about interactive tables.';\n",
              "          element.innerHTML = '';\n",
              "          dataTable['output_type'] = 'display_data';\n",
              "          await google.colab.output.renderOutput(dataTable, element);\n",
              "          const docLink = document.createElement('div');\n",
              "          docLink.innerHTML = docLinkHtml;\n",
              "          element.appendChild(docLink);\n",
              "        }\n",
              "      </script>\n",
              "    </div>\n",
              "  </div>\n",
              "  "
            ]
          },
          "metadata": {},
          "execution_count": 84
        }
      ],
      "source": [
        "df = pd.DataFrame(\n",
        "    {\n",
        "        \"strategy\": [\"Not pruned\", \"Pruned\"],\n",
        "        \"num_input_time_steps\": [\n",
        "            tpe_search_study.best_params[\"num_input_time_steps\"],\n",
        "            tpe_search_10perc_pruned_study.best_params[\"num_input_time_steps\"],\n",
        "        ],\n",
        "        \"learning_rate\": [\n",
        "            tpe_search_study.best_params[\"learning_rate\"],\n",
        "            tpe_search_10perc_pruned_study.best_params[\"learning_rate\"],\n",
        "        ],\n",
        "        \"optimizer\": [\n",
        "            tpe_search_study.best_params[\"optimizer\"],\n",
        "            tpe_search_10perc_pruned_study.best_params[\"optimizer\"],\n",
        "        ],\n",
        "        \"RMSE\": [\n",
        "            tpe_search_study.best_value,\n",
        "            tpe_search_10perc_pruned_study.best_value,\n",
        "        ],\n",
        "    }\n",
        ")\n",
        "\n",
        "df.set_index(\"strategy\")"
      ]
    },
    {
      "cell_type": "markdown",
      "metadata": {
        "id": "lTN7K33sHPkU"
      },
      "source": [
        "Our pruning strategy resulted in a slightly different set of optimal hyperparameters but with a similar RMSE!\n",
        "\n",
        "⭐ **CHALLENGE:** Try increasing the percentile of the `PercentilePruner`. How does this change affect the number of trials pruned?"
      ]
    },
    {
      "cell_type": "markdown",
      "metadata": {
        "id": "vcN0htFVzJ5p"
      },
      "source": [
        "#### **3.3.4 Compare Emissions from Search Strategies**\n",
        "\n",
        "Now let's compare emissions from both the pruned and the unpruned hyperparameter tuning studies."
      ]
    },
    {
      "cell_type": "code",
      "execution_count": null,
      "metadata": {
        "colab": {
          "base_uri": "https://localhost:8080/"
        },
        "id": "3GmrbJLrvEYH",
        "outputId": "de4c8c27-b8a7-44bd-ae1e-10e7a2e7544c"
      },
      "outputs": [
        {
          "output_type": "stream",
          "name": "stdout",
          "text": [
            "Pruning our search reduced emissions by 46.8%.\n"
          ]
        }
      ],
      "source": [
        "print(\n",
        "    f\"Pruning our search reduced emissions by {abs(1 - tpe_search_percentile_pruned_emissions / tpe_search_emissions):.1%}.\"\n",
        ")"
      ]
    },
    {
      "cell_type": "code",
      "execution_count": null,
      "metadata": {
        "colab": {
          "base_uri": "https://localhost:8080/",
          "height": 462
        },
        "id": "a7Erh5X2vEZn",
        "outputId": "353aa5ae-4d30-4ed3-f77c-381530faaa6d"
      },
      "outputs": [
        {
          "output_type": "display_data",
          "data": {
            "text/plain": [
              "<Figure size 500x500 with 2 Axes>"
            ],
            "image/png": "[encoded data removed]"
          },
          "metadata": {}
        }
      ],
      "source": [
        "tuning_results = pd.DataFrame(\n",
        "    {\n",
        "        \"Category\": [\"TPE Search\", \"TPE Search Pruned \\n(10th percentile)\"],\n",
        "        \"RMSE\": [\n",
        "            tpe_search_study.best_value,\n",
        "            tpe_search_10perc_pruned_study.best_value,\n",
        "        ],\n",
        "        \"Emissions\": [\n",
        "            tpe_search_emissions * 1000,\n",
        "            tpe_search_percentile_pruned_emissions * 1000,\n",
        "        ],\n",
        "    }\n",
        ")\n",
        "\n",
        "plot_comparison(tuning_results)"
      ]
    },
    {
      "cell_type": "markdown",
      "metadata": {
        "id": "C8HElXNUJzYx"
      },
      "source": [
        "The plot shows that our RMSE stayed essentially constant but we significantly reduced our emissions just by implementing a 10th percentile pruner. Not bad!"
      ]
    },
    {
      "cell_type": "markdown",
      "metadata": {
        "id": "rDHjiW4duNue"
      },
      "source": [
        "## **3.4 Other Exercises (Optional)**\n",
        "\n",
        "Algorithm choice and hyperparameter tuning are just two strategies to reduce your emissions from training an ML model. If you'd like to continue to experiment, check out these optional challenge exercises!\n",
        "\n",
        "* **Adjust your underlying hardware:** Click on \"Runtime\" at the top of this notebook and select \"Change runtime type.\" Select \"None\" to switch to a runtime without any GPU's. Execute the entire notebook again and note how the emissions differ now that we're relying on CPU's to execute our ML training. Which type of models are most affected by this switch? If you have access to a Colab Pro account, try upgrading instead to a premium GPU class. How does access to faster GPU's affect the energy consumed by our code?\n",
        "* **Adjust your compute region:** Click on \"Runtime\" at the top of this notebook and select \"Disconnect and delete runtime.\" Execute the first two sections until you connect to a new compute region with a different energy intensity.\n",
        "* **Implement early stopping:** If you're more familiar with neural networks, experiment with applying early stopping to our CNN training process. An \"early stopping\" approach will terminate training if the model's validation loss decreases for several epochs in a row. How does reducing the number of epochs via early stopping affect the final model's performance and its emissions?\n",
        "\n",
        "\n"
      ]
    },
    {
      "cell_type": "markdown",
      "metadata": {
        "id": "NYk0TXtZ0G4Y"
      },
      "source": [
        "# **References**\n",
        "[1] Kaack, L.H., Donti, P.L., Strubell, E. et al. \"Aligning artificial intelligence with climate change mitigation.\" Nat. Clim. Chang. 12, 518–527 (2022). https://doi.org/10.1038/s41558-022-01377-7\n",
        "\n",
        "[2] Oil in the Cloud: How Tech Companies are Helping Big Oil Profit from Climate Destruction (Greenpeace, 2019); https://www.greenpeace.org/usa/reports/oil-in-the-cloud/\n",
        "\n",
        "[3] AI-Based Smart Farming: The Rise of Machine Learning in Livestock Farming (Nexocode, 2022); https://nexocode.com/blog/posts/ai-based-smart-farming-machine-learning-in-livestock-farming/\n",
        "\n",
        "[4]  Dario Amodei and Daniel Hernandez. 2018. AI and Compute. https://openai.com/blog/ai-and-compute/\n",
        "\n",
        "[5] Patterson, David A. et al. “The Carbon Footprint of Machine Learning Training Will Plateau, Then Shrink.” Computer 55 (2022): 18-28.\n",
        "\n",
        "[6] Budennyy, Semen A. et al. “eco2AI: Carbon Emissions Tracking of Machine Learning Models as the First Step Towards Sustainable AI.” Doklady Mathematics 106 (2022): S118 - S128.\n",
        "\n",
        "[7] Wu, Carole-Jean et al. \"Sustainable AI: Environmental Implications, Challenges and Opportunities.\" Proceedings of the 5th MLSys Conference, Santa Clara, CA, USA, 2022.\n",
        "\n",
        "[8] Jiang, A. H. et al. Accelerating deep learning by focusing on the biggest losers. Preprint at https://arxiv.org/abs/1910.00762 (2019)\n",
        "\n",
        "[9] ChatGPT reaches 100 million users two months after launch (The Guardian, 2023); https://www.theguardian.com/technology/2023/feb/02/chatgpt-100-million-users-open-ai-fastest-growing-app\n",
        "\n",
        "[10] How much electricity does an American home use? (U.S. Energy Information Administration, 2022); https://www.eia.gov/tools/faqs/faq.php?id=97&t=3#\n",
        "\n",
        "[11] Lannelongue, L., Grealey, J., Inouye, M. \"Green Algorithms: Quantifying the carbon footprint of computation.\" Advanced Science 8(12), 2021. https://doi.org/10.1002/advs.202100707\n",
        "\n"
      ]
    }
  ],
  "metadata": {
    "accelerator": "GPU",
    "colab": {
      "collapsed_sections": [
        "xyb28HbsrcLJ"
      ],
      "provenance": []
    },
    "gpuClass": "standard",
    "kernelspec": {
      "display_name": "Python 3 (ipykernel)",
      "language": "python",
      "name": "python3"
    },
    "language_info": {
      "codemirror_mode": {
        "name": "ipython",
        "version": 3
      },
      "file_extension": ".py",
      "mimetype": "text/x-python",
      "name": "python",
      "nbconvert_exporter": "python",
      "pygments_lexer": "ipython3",
      "version": "3.8.8"
    },
    "widgets": {
      "application/vnd.jupyter.widget-state+json": {
        "73f4f105a91a4fafbae59391ebd0fb65": {
          "model_module": "@jupyter-widgets/controls",
          "model_name": "HBoxModel",
          "model_module_version": "1.5.0",
          "state": {
            "_dom_classes": [],
            "_model_module": "@jupyter-widgets/controls",
            "_model_module_version": "1.5.0",
            "_model_name": "HBoxModel",
            "_view_count": null,
            "_view_module": "@jupyter-widgets/controls",
            "_view_module_version": "1.5.0",
            "_view_name": "HBoxView",
            "box_style": "",
            "children": [
              "IPY_MODEL_510551aea3084555b4c3982528cce9b8",
              "IPY_MODEL_b395e09ac1084567ac824ea50517cef9",
              "IPY_MODEL_7ed85909f48045dbbadbc804c9464c82"
            ],
            "layout": "IPY_MODEL_400faafaa2e148718bc98268be1ca6c2"
          }
        },
        "510551aea3084555b4c3982528cce9b8": {
          "model_module": "@jupyter-widgets/controls",
          "model_name": "HTMLModel",
          "model_module_version": "1.5.0",
          "state": {
            "_dom_classes": [],
            "_model_module": "@jupyter-widgets/controls",
            "_model_module_version": "1.5.0",
            "_model_name": "HTMLModel",
            "_view_count": null,
            "_view_module": "@jupyter-widgets/controls",
            "_view_module_version": "1.5.0",
            "_view_name": "HTMLView",
            "description": "",
            "description_tooltip": null,
            "layout": "IPY_MODEL_db109a8c2e00496695aba33d2d82ee1b",
            "placeholder": "​",
            "style": "IPY_MODEL_8388bad8267c459c861ec6fbeef7057f",
            "value": "Best trial: 6. Best value: 0.250274: 100%"
          }
        },
        "b395e09ac1084567ac824ea50517cef9": {
          "model_module": "@jupyter-widgets/controls",
          "model_name": "FloatProgressModel",
          "model_module_version": "1.5.0",
          "state": {
            "_dom_classes": [],
            "_model_module": "@jupyter-widgets/controls",
            "_model_module_version": "1.5.0",
            "_model_name": "FloatProgressModel",
            "_view_count": null,
            "_view_module": "@jupyter-widgets/controls",
            "_view_module_version": "1.5.0",
            "_view_name": "ProgressView",
            "bar_style": "success",
            "description": "",
            "description_tooltip": null,
            "layout": "IPY_MODEL_9a771cf17912472c870f33705b9539e0",
            "max": 12,
            "min": 0,
            "orientation": "horizontal",
            "style": "IPY_MODEL_bcbccc61d20b42e0910abddbb8ed8c59",
            "value": 12
          }
        },
        "7ed85909f48045dbbadbc804c9464c82": {
          "model_module": "@jupyter-widgets/controls",
          "model_name": "HTMLModel",
          "model_module_version": "1.5.0",
          "state": {
            "_dom_classes": [],
            "_model_module": "@jupyter-widgets/controls",
            "_model_module_version": "1.5.0",
            "_model_name": "HTMLModel",
            "_view_count": null,
            "_view_module": "@jupyter-widgets/controls",
            "_view_module_version": "1.5.0",
            "_view_name": "HTMLView",
            "description": "",
            "description_tooltip": null,
            "layout": "IPY_MODEL_1501e6948fa4445d9c8adc5b3f709e72",
            "placeholder": "​",
            "style": "IPY_MODEL_fbf9681dc0704297a5f832f610adb311",
            "value": " 12/12 [04:12&lt;00:00, 19.89s/it]"
          }
        },
        "400faafaa2e148718bc98268be1ca6c2": {
          "model_module": "@jupyter-widgets/base",
          "model_name": "LayoutModel",
          "model_module_version": "1.2.0",
          "state": {
            "_model_module": "@jupyter-widgets/base",
            "_model_module_version": "1.2.0",
            "_model_name": "LayoutModel",
            "_view_count": null,
            "_view_module": "@jupyter-widgets/base",
            "_view_module_version": "1.2.0",
            "_view_name": "LayoutView",
            "align_content": null,
            "align_items": null,
            "align_self": null,
            "border": null,
            "bottom": null,
            "display": null,
            "flex": null,
            "flex_flow": null,
            "grid_area": null,
            "grid_auto_columns": null,
            "grid_auto_flow": null,
            "grid_auto_rows": null,
            "grid_column": null,
            "grid_gap": null,
            "grid_row": null,
            "grid_template_areas": null,
            "grid_template_columns": null,
            "grid_template_rows": null,
            "height": null,
            "justify_content": null,
            "justify_items": null,
            "left": null,
            "margin": null,
            "max_height": null,
            "max_width": null,
            "min_height": null,
            "min_width": null,
            "object_fit": null,
            "object_position": null,
            "order": null,
            "overflow": null,
            "overflow_x": null,
            "overflow_y": null,
            "padding": null,
            "right": null,
            "top": null,
            "visibility": null,
            "width": null
          }
        },
        "db109a8c2e00496695aba33d2d82ee1b": {
          "model_module": "@jupyter-widgets/base",
          "model_name": "LayoutModel",
          "model_module_version": "1.2.0",
          "state": {
            "_model_module": "@jupyter-widgets/base",
            "_model_module_version": "1.2.0",
            "_model_name": "LayoutModel",
            "_view_count": null,
            "_view_module": "@jupyter-widgets/base",
            "_view_module_version": "1.2.0",
            "_view_name": "LayoutView",
            "align_content": null,
            "align_items": null,
            "align_self": null,
            "border": null,
            "bottom": null,
            "display": null,
            "flex": null,
            "flex_flow": null,
            "grid_area": null,
            "grid_auto_columns": null,
            "grid_auto_flow": null,
            "grid_auto_rows": null,
            "grid_column": null,
            "grid_gap": null,
            "grid_row": null,
            "grid_template_areas": null,
            "grid_template_columns": null,
            "grid_template_rows": null,
            "height": null,
            "justify_content": null,
            "justify_items": null,
            "left": null,
            "margin": null,
            "max_height": null,
            "max_width": null,
            "min_height": null,
            "min_width": null,
            "object_fit": null,
            "object_position": null,
            "order": null,
            "overflow": null,
            "overflow_x": null,
            "overflow_y": null,
            "padding": null,
            "right": null,
            "top": null,
            "visibility": null,
            "width": null
          }
        },
        "8388bad8267c459c861ec6fbeef7057f": {
          "model_module": "@jupyter-widgets/controls",
          "model_name": "DescriptionStyleModel",
          "model_module_version": "1.5.0",
          "state": {
            "_model_module": "@jupyter-widgets/controls",
            "_model_module_version": "1.5.0",
            "_model_name": "DescriptionStyleModel",
            "_view_count": null,
            "_view_module": "@jupyter-widgets/base",
            "_view_module_version": "1.2.0",
            "_view_name": "StyleView",
            "description_width": ""
          }
        },
        "9a771cf17912472c870f33705b9539e0": {
          "model_module": "@jupyter-widgets/base",
          "model_name": "LayoutModel",
          "model_module_version": "1.2.0",
          "state": {
            "_model_module": "@jupyter-widgets/base",
            "_model_module_version": "1.2.0",
            "_model_name": "LayoutModel",
            "_view_count": null,
            "_view_module": "@jupyter-widgets/base",
            "_view_module_version": "1.2.0",
            "_view_name": "LayoutView",
            "align_content": null,
            "align_items": null,
            "align_self": null,
            "border": null,
            "bottom": null,
            "display": null,
            "flex": null,
            "flex_flow": null,
            "grid_area": null,
            "grid_auto_columns": null,
            "grid_auto_flow": null,
            "grid_auto_rows": null,
            "grid_column": null,
            "grid_gap": null,
            "grid_row": null,
            "grid_template_areas": null,
            "grid_template_columns": null,
            "grid_template_rows": null,
            "height": null,
            "justify_content": null,
            "justify_items": null,
            "left": null,
            "margin": null,
            "max_height": null,
            "max_width": null,
            "min_height": null,
            "min_width": null,
            "object_fit": null,
            "object_position": null,
            "order": null,
            "overflow": null,
            "overflow_x": null,
            "overflow_y": null,
            "padding": null,
            "right": null,
            "top": null,
            "visibility": null,
            "width": null
          }
        },
        "bcbccc61d20b42e0910abddbb8ed8c59": {
          "model_module": "@jupyter-widgets/controls",
          "model_name": "ProgressStyleModel",
          "model_module_version": "1.5.0",
          "state": {
            "_model_module": "@jupyter-widgets/controls",
            "_model_module_version": "1.5.0",
            "_model_name": "ProgressStyleModel",
            "_view_count": null,
            "_view_module": "@jupyter-widgets/base",
            "_view_module_version": "1.2.0",
            "_view_name": "StyleView",
            "bar_color": null,
            "description_width": ""
          }
        },
        "1501e6948fa4445d9c8adc5b3f709e72": {
          "model_module": "@jupyter-widgets/base",
          "model_name": "LayoutModel",
          "model_module_version": "1.2.0",
          "state": {
            "_model_module": "@jupyter-widgets/base",
            "_model_module_version": "1.2.0",
            "_model_name": "LayoutModel",
            "_view_count": null,
            "_view_module": "@jupyter-widgets/base",
            "_view_module_version": "1.2.0",
            "_view_name": "LayoutView",
            "align_content": null,
            "align_items": null,
            "align_self": null,
            "border": null,
            "bottom": null,
            "display": null,
            "flex": null,
            "flex_flow": null,
            "grid_area": null,
            "grid_auto_columns": null,
            "grid_auto_flow": null,
            "grid_auto_rows": null,
            "grid_column": null,
            "grid_gap": null,
            "grid_row": null,
            "grid_template_areas": null,
            "grid_template_columns": null,
            "grid_template_rows": null,
            "height": null,
            "justify_content": null,
            "justify_items": null,
            "left": null,
            "margin": null,
            "max_height": null,
            "max_width": null,
            "min_height": null,
            "min_width": null,
            "object_fit": null,
            "object_position": null,
            "order": null,
            "overflow": null,
            "overflow_x": null,
            "overflow_y": null,
            "padding": null,
            "right": null,
            "top": null,
            "visibility": null,
            "width": null
          }
        },
        "fbf9681dc0704297a5f832f610adb311": {
          "model_module": "@jupyter-widgets/controls",
          "model_name": "DescriptionStyleModel",
          "model_module_version": "1.5.0",
          "state": {
            "_model_module": "@jupyter-widgets/controls",
            "_model_module_version": "1.5.0",
            "_model_name": "DescriptionStyleModel",
            "_view_count": null,
            "_view_module": "@jupyter-widgets/base",
            "_view_module_version": "1.2.0",
            "_view_name": "StyleView",
            "description_width": ""
          }
        },
        "bb530fd1cab94a45afdb174945b8c47e": {
          "model_module": "@jupyter-widgets/controls",
          "model_name": "HBoxModel",
          "model_module_version": "1.5.0",
          "state": {
            "_dom_classes": [],
            "_model_module": "@jupyter-widgets/controls",
            "_model_module_version": "1.5.0",
            "_model_name": "HBoxModel",
            "_view_count": null,
            "_view_module": "@jupyter-widgets/controls",
            "_view_module_version": "1.5.0",
            "_view_name": "HBoxView",
            "box_style": "",
            "children": [
              "IPY_MODEL_e8b772087f3a48c3be97c555dc1fca85",
              "IPY_MODEL_0e06f4d494b34e89ab7587f1291039e7",
              "IPY_MODEL_dd341850a65f4dbe95b0bba7726ddd14"
            ],
            "layout": "IPY_MODEL_170f40d037e34544b6ffa1cb4b75153b"
          }
        },
        "e8b772087f3a48c3be97c555dc1fca85": {
          "model_module": "@jupyter-widgets/controls",
          "model_name": "HTMLModel",
          "model_module_version": "1.5.0",
          "state": {
            "_dom_classes": [],
            "_model_module": "@jupyter-widgets/controls",
            "_model_module_version": "1.5.0",
            "_model_name": "HTMLModel",
            "_view_count": null,
            "_view_module": "@jupyter-widgets/controls",
            "_view_module_version": "1.5.0",
            "_view_name": "HTMLView",
            "description": "",
            "description_tooltip": null,
            "layout": "IPY_MODEL_2da303b2be4d410595a6672288b836de",
            "placeholder": "​",
            "style": "IPY_MODEL_34d068f48aa841c5bb7c9f52ef46ddaf",
            "value": "Best trial: 3. Best value: 0.253203: 100%"
          }
        },
        "0e06f4d494b34e89ab7587f1291039e7": {
          "model_module": "@jupyter-widgets/controls",
          "model_name": "FloatProgressModel",
          "model_module_version": "1.5.0",
          "state": {
            "_dom_classes": [],
            "_model_module": "@jupyter-widgets/controls",
            "_model_module_version": "1.5.0",
            "_model_name": "FloatProgressModel",
            "_view_count": null,
            "_view_module": "@jupyter-widgets/controls",
            "_view_module_version": "1.5.0",
            "_view_name": "ProgressView",
            "bar_style": "success",
            "description": "",
            "description_tooltip": null,
            "layout": "IPY_MODEL_e7069f4a57dd4530895fbd4cacd3582b",
            "max": 12,
            "min": 0,
            "orientation": "horizontal",
            "style": "IPY_MODEL_7181ba6369774af4a6456c166f38fdb8",
            "value": 12
          }
        },
        "dd341850a65f4dbe95b0bba7726ddd14": {
          "model_module": "@jupyter-widgets/controls",
          "model_name": "HTMLModel",
          "model_module_version": "1.5.0",
          "state": {
            "_dom_classes": [],
            "_model_module": "@jupyter-widgets/controls",
            "_model_module_version": "1.5.0",
            "_model_name": "HTMLModel",
            "_view_count": null,
            "_view_module": "@jupyter-widgets/controls",
            "_view_module_version": "1.5.0",
            "_view_name": "HTMLView",
            "description": "",
            "description_tooltip": null,
            "layout": "IPY_MODEL_e021a0e85c5b4fffa4e53d5a94747691",
            "placeholder": "​",
            "style": "IPY_MODEL_b0cf2b274bb74ac5ae3195c0e9c69aa4",
            "value": " 12/12 [02:19&lt;00:00,  4.40s/it]"
          }
        },
        "170f40d037e34544b6ffa1cb4b75153b": {
          "model_module": "@jupyter-widgets/base",
          "model_name": "LayoutModel",
          "model_module_version": "1.2.0",
          "state": {
            "_model_module": "@jupyter-widgets/base",
            "_model_module_version": "1.2.0",
            "_model_name": "LayoutModel",
            "_view_count": null,
            "_view_module": "@jupyter-widgets/base",
            "_view_module_version": "1.2.0",
            "_view_name": "LayoutView",
            "align_content": null,
            "align_items": null,
            "align_self": null,
            "border": null,
            "bottom": null,
            "display": null,
            "flex": null,
            "flex_flow": null,
            "grid_area": null,
            "grid_auto_columns": null,
            "grid_auto_flow": null,
            "grid_auto_rows": null,
            "grid_column": null,
            "grid_gap": null,
            "grid_row": null,
            "grid_template_areas": null,
            "grid_template_columns": null,
            "grid_template_rows": null,
            "height": null,
            "justify_content": null,
            "justify_items": null,
            "left": null,
            "margin": null,
            "max_height": null,
            "max_width": null,
            "min_height": null,
            "min_width": null,
            "object_fit": null,
            "object_position": null,
            "order": null,
            "overflow": null,
            "overflow_x": null,
            "overflow_y": null,
            "padding": null,
            "right": null,
            "top": null,
            "visibility": null,
            "width": null
          }
        },
        "2da303b2be4d410595a6672288b836de": {
          "model_module": "@jupyter-widgets/base",
          "model_name": "LayoutModel",
          "model_module_version": "1.2.0",
          "state": {
            "_model_module": "@jupyter-widgets/base",
            "_model_module_version": "1.2.0",
            "_model_name": "LayoutModel",
            "_view_count": null,
            "_view_module": "@jupyter-widgets/base",
            "_view_module_version": "1.2.0",
            "_view_name": "LayoutView",
            "align_content": null,
            "align_items": null,
            "align_self": null,
            "border": null,
            "bottom": null,
            "display": null,
            "flex": null,
            "flex_flow": null,
            "grid_area": null,
            "grid_auto_columns": null,
            "grid_auto_flow": null,
            "grid_auto_rows": null,
            "grid_column": null,
            "grid_gap": null,
            "grid_row": null,
            "grid_template_areas": null,
            "grid_template_columns": null,
            "grid_template_rows": null,
            "height": null,
            "justify_content": null,
            "justify_items": null,
            "left": null,
            "margin": null,
            "max_height": null,
            "max_width": null,
            "min_height": null,
            "min_width": null,
            "object_fit": null,
            "object_position": null,
            "order": null,
            "overflow": null,
            "overflow_x": null,
            "overflow_y": null,
            "padding": null,
            "right": null,
            "top": null,
            "visibility": null,
            "width": null
          }
        },
        "34d068f48aa841c5bb7c9f52ef46ddaf": {
          "model_module": "@jupyter-widgets/controls",
          "model_name": "DescriptionStyleModel",
          "model_module_version": "1.5.0",
          "state": {
            "_model_module": "@jupyter-widgets/controls",
            "_model_module_version": "1.5.0",
            "_model_name": "DescriptionStyleModel",
            "_view_count": null,
            "_view_module": "@jupyter-widgets/base",
            "_view_module_version": "1.2.0",
            "_view_name": "StyleView",
            "description_width": ""
          }
        },
        "e7069f4a57dd4530895fbd4cacd3582b": {
          "model_module": "@jupyter-widgets/base",
          "model_name": "LayoutModel",
          "model_module_version": "1.2.0",
          "state": {
            "_model_module": "@jupyter-widgets/base",
            "_model_module_version": "1.2.0",
            "_model_name": "LayoutModel",
            "_view_count": null,
            "_view_module": "@jupyter-widgets/base",
            "_view_module_version": "1.2.0",
            "_view_name": "LayoutView",
            "align_content": null,
            "align_items": null,
            "align_self": null,
            "border": null,
            "bottom": null,
            "display": null,
            "flex": null,
            "flex_flow": null,
            "grid_area": null,
            "grid_auto_columns": null,
            "grid_auto_flow": null,
            "grid_auto_rows": null,
            "grid_column": null,
            "grid_gap": null,
            "grid_row": null,
            "grid_template_areas": null,
            "grid_template_columns": null,
            "grid_template_rows": null,
            "height": null,
            "justify_content": null,
            "justify_items": null,
            "left": null,
            "margin": null,
            "max_height": null,
            "max_width": null,
            "min_height": null,
            "min_width": null,
            "object_fit": null,
            "object_position": null,
            "order": null,
            "overflow": null,
            "overflow_x": null,
            "overflow_y": null,
            "padding": null,
            "right": null,
            "top": null,
            "visibility": null,
            "width": null
          }
        },
        "7181ba6369774af4a6456c166f38fdb8": {
          "model_module": "@jupyter-widgets/controls",
          "model_name": "ProgressStyleModel",
          "model_module_version": "1.5.0",
          "state": {
            "_model_module": "@jupyter-widgets/controls",
            "_model_module_version": "1.5.0",
            "_model_name": "ProgressStyleModel",
            "_view_count": null,
            "_view_module": "@jupyter-widgets/base",
            "_view_module_version": "1.2.0",
            "_view_name": "StyleView",
            "bar_color": null,
            "description_width": ""
          }
        },
        "e021a0e85c5b4fffa4e53d5a94747691": {
          "model_module": "@jupyter-widgets/base",
          "model_name": "LayoutModel",
          "model_module_version": "1.2.0",
          "state": {
            "_model_module": "@jupyter-widgets/base",
            "_model_module_version": "1.2.0",
            "_model_name": "LayoutModel",
            "_view_count": null,
            "_view_module": "@jupyter-widgets/base",
            "_view_module_version": "1.2.0",
            "_view_name": "LayoutView",
            "align_content": null,
            "align_items": null,
            "align_self": null,
            "border": null,
            "bottom": null,
            "display": null,
            "flex": null,
            "flex_flow": null,
            "grid_area": null,
            "grid_auto_columns": null,
            "grid_auto_flow": null,
            "grid_auto_rows": null,
            "grid_column": null,
            "grid_gap": null,
            "grid_row": null,
            "grid_template_areas": null,
            "grid_template_columns": null,
            "grid_template_rows": null,
            "height": null,
            "justify_content": null,
            "justify_items": null,
            "left": null,
            "margin": null,
            "max_height": null,
            "max_width": null,
            "min_height": null,
            "min_width": null,
            "object_fit": null,
            "object_position": null,
            "order": null,
            "overflow": null,
            "overflow_x": null,
            "overflow_y": null,
            "padding": null,
            "right": null,
            "top": null,
            "visibility": null,
            "width": null
          }
        },
        "b0cf2b274bb74ac5ae3195c0e9c69aa4": {
          "model_module": "@jupyter-widgets/controls",
          "model_name": "DescriptionStyleModel",
          "model_module_version": "1.5.0",
          "state": {
            "_model_module": "@jupyter-widgets/controls",
            "_model_module_version": "1.5.0",
            "_model_name": "DescriptionStyleModel",
            "_view_count": null,
            "_view_module": "@jupyter-widgets/base",
            "_view_module_version": "1.2.0",
            "_view_name": "StyleView",
            "description_width": ""
          }
        }
      }
    }
  },
  "nbformat": 4,
  "nbformat_minor": 0
}